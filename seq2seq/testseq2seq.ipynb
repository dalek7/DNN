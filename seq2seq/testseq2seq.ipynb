{
 "cells": [
  {
   "cell_type": "markdown",
   "metadata": {},
   "source": [
    "Sequence to sequence example in Keras (character-level).\n",
    "This script demonstrates how to implement a basic character-level\n",
    "sequence-to-sequence model. We apply it to translating\n",
    "short English sentences into short French sentences,\n",
    "character-by-character. Note that it is fairly unusual to\n",
    "do character-level machine translation, as word-level\n",
    "models are more common in this domain.\n",
    "See https://github.com/keras-team/keras/blob/master/examples/lstm_seq2seq.py"
   ]
  },
  {
   "cell_type": "markdown",
   "metadata": {},
   "source": [
    "based on https://blog.keras.io/a-ten-minute-introduction-to-sequence-to-sequence-learning-in-keras.html\n",
    "or http://archive.is/3qsFl"
   ]
  },
  {
   "cell_type": "markdown",
   "metadata": {},
   "source": [
    "Data download\n",
    "English to French sentence pairs.\n",
    "http://www.manythings.org/anki/fra-eng.zip\n",
    "Lots of neat sentence pairs datasets can be found at:\n",
    "http://www.manythings.org/anki/"
   ]
  },
  {
   "cell_type": "code",
   "execution_count": 1,
   "metadata": {},
   "outputs": [
    {
     "name": "stderr",
     "output_type": "stream",
     "text": [
      "/home/seung/.venv/py3Keras/lib/python3.5/importlib/_bootstrap.py:222: RuntimeWarning: numpy.dtype size changed, may indicate binary incompatibility. Expected 96, got 88\n",
      "  return f(*args, **kwds)\n",
      "Using TensorFlow backend.\n",
      "/home/seung/.venv/py3Keras/lib/python3.5/importlib/_bootstrap.py:222: RuntimeWarning: numpy.dtype size changed, may indicate binary incompatibility. Expected 96, got 88\n",
      "  return f(*args, **kwds)\n",
      "/home/seung/.venv/py3Keras/lib/python3.5/importlib/_bootstrap.py:222: RuntimeWarning: numpy.dtype size changed, may indicate binary incompatibility. Expected 96, got 88\n",
      "  return f(*args, **kwds)\n"
     ]
    }
   ],
   "source": [
    "from __future__ import print_function\n",
    "\n",
    "from keras.models import Model\n",
    "from keras.layers import Input, LSTM, Dense\n",
    "import numpy as np"
   ]
  },
  {
   "cell_type": "code",
   "execution_count": 2,
   "metadata": {},
   "outputs": [],
   "source": [
    "batch_size = 64  # Batch size for training.\n",
    "epochs = 100  # Number of epochs to train for.\n",
    "latent_dim = 256  # Latent dimensionality of the encoding space.\n",
    "num_samples = 10000  # Number of samples to train on.\n",
    "# Path to the data txt file on disk.\n",
    "data_path = './data/fra.txt'"
   ]
  },
  {
   "cell_type": "code",
   "execution_count": 3,
   "metadata": {},
   "outputs": [
    {
     "name": "stdout",
     "output_type": "stream",
     "text": [
      "Go.\tVa !\r\n",
      "Run!\tCours !\r\n",
      "Run!\tCourez !\r\n",
      "Fire!\tAu feu !\r\n",
      "Help!\tÀ l'aide !\r\n",
      "Jump.\tSaute.\r\n",
      "Stop!\tÇa suffit !\r\n",
      "Stop!\tStop !\r\n",
      "Stop!\tArrête-toi !\r\n",
      "Wait!\tAttends !\r\n"
     ]
    }
   ],
   "source": [
    "!head $data_path"
   ]
  },
  {
   "cell_type": "code",
   "execution_count": 4,
   "metadata": {},
   "outputs": [
    {
     "name": "stdout",
     "output_type": "stream",
     "text": [
      "Number of samples: 10000\n",
      "Number of unique input tokens: 71\n",
      "Number of unique output tokens: 94\n",
      "Max sequence length for inputs: 16\n",
      "Max sequence length for outputs: 59\n"
     ]
    }
   ],
   "source": [
    "# Vectorize the data.\n",
    "input_texts = []\n",
    "target_texts = []\n",
    "input_characters = set()\n",
    "target_characters = set()\n",
    "\n",
    "with open(data_path, 'r', encoding='utf-8') as f:\n",
    "    lines = f.read().split('\\n')\n",
    "    \n",
    "    for line in lines[: min(num_samples, len(lines) - 1)]:\n",
    "        input_text, target_text = line.split('\\t')\n",
    "        # We use \"tab\" as the \"start sequence\" character\n",
    "        # for the targets, and \"\\n\" as \"end sequence\" character.\n",
    "        target_text = '\\t' + target_text + '\\n'\n",
    "        input_texts.append(input_text)\n",
    "        target_texts.append(target_text)\n",
    "        for char in input_text:\n",
    "            if char not in input_characters:\n",
    "                input_characters.add(char)\n",
    "        for char in target_text:\n",
    "            if char not in target_characters:\n",
    "                target_characters.add(char)\n",
    "\n",
    "input_characters = sorted(list(input_characters))\n",
    "target_characters = sorted(list(target_characters))\n",
    "num_encoder_tokens = len(input_characters)\n",
    "num_decoder_tokens = len(target_characters)\n",
    "max_encoder_seq_length = max([len(txt) for txt in input_texts])\n",
    "max_decoder_seq_length = max([len(txt) for txt in target_texts])\n",
    "\n",
    "print('Number of samples:', len(input_texts))\n",
    "print('Number of unique input tokens:', num_encoder_tokens)\n",
    "print('Number of unique output tokens:', num_decoder_tokens)\n",
    "print('Max sequence length for inputs:', max_encoder_seq_length)\n",
    "print('Max sequence length for outputs:', max_decoder_seq_length)"
   ]
  },
  {
   "cell_type": "code",
   "execution_count": 5,
   "metadata": {},
   "outputs": [
    {
     "name": "stdout",
     "output_type": "stream",
     "text": [
      "[' ', '!', '$', '%', '&', \"'\", ',', '-', '.', '0', '1', '2', '3', '4', '5', '6', '7', '8', '9', ':', '?', 'A', 'B', 'C', 'D', 'E', 'F', 'G', 'H', 'I', 'J', 'K', 'L', 'M', 'N', 'O', 'P', 'Q', 'R', 'S', 'T', 'U', 'V', 'W', 'Y', 'a', 'b', 'c', 'd', 'e', 'f', 'g', 'h', 'i', 'j', 'k', 'l', 'm', 'n', 'o', 'p', 'q', 'r', 's', 't', 'u', 'v', 'w', 'x', 'y', 'z']\n"
     ]
    }
   ],
   "source": [
    "print(input_characters)"
   ]
  },
  {
   "cell_type": "code",
   "execution_count": 6,
   "metadata": {},
   "outputs": [
    {
     "name": "stdout",
     "output_type": "stream",
     "text": [
      "['\\t', '\\n', ' ', '!', '$', '%', '&', \"'\", '(', ')', ',', '-', '.', '0', '1', '3', '5', '6', '8', '9', ':', '?', 'A', 'B', 'C', 'D', 'E', 'F', 'G', 'H', 'I', 'J', 'K', 'L', 'M', 'N', 'O', 'P', 'Q', 'R', 'S', 'T', 'U', 'V', 'Y', 'a', 'b', 'c', 'd', 'e', 'f', 'g', 'h', 'i', 'j', 'k', 'l', 'm', 'n', 'o', 'p', 'q', 'r', 's', 't', 'u', 'v', 'w', 'x', 'y', 'z', '\\xa0', '«', '»', 'À', 'Ç', 'É', 'Ê', 'à', 'â', 'ç', 'è', 'é', 'ê', 'ë', 'î', 'ï', 'ô', 'ù', 'û', 'œ', '\\u2009', '’', '\\u202f']\n"
     ]
    }
   ],
   "source": [
    "print(target_characters)"
   ]
  },
  {
   "cell_type": "code",
   "execution_count": 7,
   "metadata": {},
   "outputs": [],
   "source": [
    "input_token_index = dict(\n",
    "    [(char, i) for i, char in enumerate(input_characters)])\n",
    "target_token_index = dict(\n",
    "    [(char, i) for i, char in enumerate(target_characters)])\n",
    "\n",
    "encoder_input_data = np.zeros(\n",
    "    (len(input_texts), max_encoder_seq_length, num_encoder_tokens),\n",
    "    dtype='float32')\n",
    "\n",
    "decoder_input_data = np.zeros(\n",
    "    (len(input_texts), max_decoder_seq_length, num_decoder_tokens),\n",
    "    dtype='float32')\n",
    "\n",
    "decoder_target_data = np.zeros(\n",
    "    (len(input_texts), max_decoder_seq_length, num_decoder_tokens),\n",
    "    dtype='float32')"
   ]
  },
  {
   "cell_type": "code",
   "execution_count": 8,
   "metadata": {},
   "outputs": [],
   "source": [
    "for i, (input_text, target_text) in enumerate(zip(input_texts, target_texts)):\n",
    "    for t, char in enumerate(input_text):\n",
    "        encoder_input_data[i, t, input_token_index[char]] = 1.\n",
    "        \n",
    "    for t, char in enumerate(target_text):\n",
    "        # decoder_target_data is ahead of decoder_input_data by one timestep\n",
    "        decoder_input_data[i, t, target_token_index[char]] = 1.\n",
    "        if t > 0:\n",
    "            # decoder_target_data will be ahead by one timestep\n",
    "            # and will not include the start character.\n",
    "            decoder_target_data[i, t - 1, target_token_index[char]] = 1."
   ]
  },
  {
   "cell_type": "code",
   "execution_count": 9,
   "metadata": {},
   "outputs": [
    {
     "name": "stdout",
     "output_type": "stream",
     "text": [
      "(10000, 16, 71)\n",
      "(10000, 59, 94)\n",
      "(10000, 59, 94)\n"
     ]
    }
   ],
   "source": [
    "print(encoder_input_data.shape)\n",
    "print(decoder_input_data.shape)\n",
    "print(decoder_target_data.shape)"
   ]
  },
  {
   "cell_type": "markdown",
   "metadata": {},
   "source": [
    "num_encoder_tokens / num_decoder_tokens 이므로 one-hot"
   ]
  },
  {
   "cell_type": "code",
   "execution_count": 10,
   "metadata": {},
   "outputs": [
    {
     "name": "stdout",
     "output_type": "stream",
     "text": [
      "[[0. 0. 0. 0. 0. 0. 0. 0. 0. 0. 0. 0. 0. 0. 0. 0. 0. 0. 0. 0. 0. 0. 0. 0.\n",
      "  0. 0. 0. 0. 0. 0. 0. 0. 0. 0. 0. 0. 0. 0. 0. 0. 0. 0. 0. 1. 0. 0. 0. 0.\n",
      "  0. 0. 0. 0. 0. 0. 0. 0. 0. 0. 0. 0. 0. 0. 0. 0. 0. 0. 0. 0. 0. 0. 0. 0.\n",
      "  0. 0. 0. 0. 0. 0. 0. 0. 0. 0. 0. 0. 0. 0. 0. 0. 0. 0. 0. 0. 0. 0.]\n",
      " [0. 0. 0. 0. 0. 0. 0. 0. 0. 0. 0. 0. 0. 0. 0. 0. 0. 0. 0. 0. 0. 0. 0. 0.\n",
      "  0. 0. 0. 0. 0. 0. 0. 0. 0. 0. 0. 0. 0. 0. 0. 0. 0. 0. 0. 0. 0. 1. 0. 0.\n",
      "  0. 0. 0. 0. 0. 0. 0. 0. 0. 0. 0. 0. 0. 0. 0. 0. 0. 0. 0. 0. 0. 0. 0. 0.\n",
      "  0. 0. 0. 0. 0. 0. 0. 0. 0. 0. 0. 0. 0. 0. 0. 0. 0. 0. 0. 0. 0. 0.]\n",
      " [0. 0. 1. 0. 0. 0. 0. 0. 0. 0. 0. 0. 0. 0. 0. 0. 0. 0. 0. 0. 0. 0. 0. 0.\n",
      "  0. 0. 0. 0. 0. 0. 0. 0. 0. 0. 0. 0. 0. 0. 0. 0. 0. 0. 0. 0. 0. 0. 0. 0.\n",
      "  0. 0. 0. 0. 0. 0. 0. 0. 0. 0. 0. 0. 0. 0. 0. 0. 0. 0. 0. 0. 0. 0. 0. 0.\n",
      "  0. 0. 0. 0. 0. 0. 0. 0. 0. 0. 0. 0. 0. 0. 0. 0. 0. 0. 0. 0. 0. 0.]]\n"
     ]
    }
   ],
   "source": [
    "print(decoder_input_data[0,1:4])"
   ]
  },
  {
   "cell_type": "code",
   "execution_count": 11,
   "metadata": {},
   "outputs": [
    {
     "name": "stdout",
     "output_type": "stream",
     "text": [
      "[[0. 0. 0. 0. 0. 0. 0. 0. 0. 0. 0. 0. 0. 0. 0. 0. 0. 0. 0. 0. 0. 0. 0. 0.\n",
      "  0. 0. 0. 0. 0. 0. 0. 0. 0. 0. 0. 0. 0. 0. 0. 0. 0. 0. 0. 1. 0. 0. 0. 0.\n",
      "  0. 0. 0. 0. 0. 0. 0. 0. 0. 0. 0. 0. 0. 0. 0. 0. 0. 0. 0. 0. 0. 0. 0. 0.\n",
      "  0. 0. 0. 0. 0. 0. 0. 0. 0. 0. 0. 0. 0. 0. 0. 0. 0. 0. 0. 0. 0. 0.]\n",
      " [0. 0. 0. 0. 0. 0. 0. 0. 0. 0. 0. 0. 0. 0. 0. 0. 0. 0. 0. 0. 0. 0. 0. 0.\n",
      "  0. 0. 0. 0. 0. 0. 0. 0. 0. 0. 0. 0. 0. 0. 0. 0. 0. 0. 0. 0. 0. 1. 0. 0.\n",
      "  0. 0. 0. 0. 0. 0. 0. 0. 0. 0. 0. 0. 0. 0. 0. 0. 0. 0. 0. 0. 0. 0. 0. 0.\n",
      "  0. 0. 0. 0. 0. 0. 0. 0. 0. 0. 0. 0. 0. 0. 0. 0. 0. 0. 0. 0. 0. 0.]\n",
      " [0. 0. 1. 0. 0. 0. 0. 0. 0. 0. 0. 0. 0. 0. 0. 0. 0. 0. 0. 0. 0. 0. 0. 0.\n",
      "  0. 0. 0. 0. 0. 0. 0. 0. 0. 0. 0. 0. 0. 0. 0. 0. 0. 0. 0. 0. 0. 0. 0. 0.\n",
      "  0. 0. 0. 0. 0. 0. 0. 0. 0. 0. 0. 0. 0. 0. 0. 0. 0. 0. 0. 0. 0. 0. 0. 0.\n",
      "  0. 0. 0. 0. 0. 0. 0. 0. 0. 0. 0. 0. 0. 0. 0. 0. 0. 0. 0. 0. 0. 0.]]\n"
     ]
    }
   ],
   "source": [
    "print(decoder_target_data[0,:3])"
   ]
  },
  {
   "cell_type": "code",
   "execution_count": 12,
   "metadata": {},
   "outputs": [],
   "source": [
    "# Define an input sequence and process it.\n",
    "encoder_inputs = Input(shape=(None, num_encoder_tokens))\n",
    "encoder = LSTM(latent_dim, return_state=True)\n",
    "encoder_outputs, state_h, state_c = encoder(encoder_inputs)\n",
    "# We discard `encoder_outputs` and only keep the states.\n",
    "encoder_states = [state_h, state_c]"
   ]
  },
  {
   "cell_type": "code",
   "execution_count": 13,
   "metadata": {},
   "outputs": [
    {
     "name": "stdout",
     "output_type": "stream",
     "text": [
      "Tensor(\"lstm_1/while/Exit_2:0\", shape=(?, 256), dtype=float32)\n"
     ]
    }
   ],
   "source": [
    "print(state_h)"
   ]
  },
  {
   "cell_type": "code",
   "execution_count": 14,
   "metadata": {},
   "outputs": [
    {
     "name": "stdout",
     "output_type": "stream",
     "text": [
      "Tensor(\"lstm_1/while/Exit_3:0\", shape=(?, 256), dtype=float32)\n"
     ]
    }
   ],
   "source": [
    "print(state_c)"
   ]
  },
  {
   "cell_type": "markdown",
   "metadata": {},
   "source": [
    "Q. encoder_inputs 의 shape이 (None, num_encoder_tokens) 인데, 일단 일종의 차원만 지정해주나?"
   ]
  },
  {
   "cell_type": "code",
   "execution_count": 15,
   "metadata": {},
   "outputs": [
    {
     "name": "stdout",
     "output_type": "stream",
     "text": [
      "[<tf.Tensor 'lstm_1/while/Exit_2:0' shape=(?, 256) dtype=float32>, <tf.Tensor 'lstm_1/while/Exit_3:0' shape=(?, 256) dtype=float32>]\n"
     ]
    }
   ],
   "source": [
    "print(encoder_states)"
   ]
  },
  {
   "cell_type": "code",
   "execution_count": 16,
   "metadata": {},
   "outputs": [],
   "source": [
    "# Set up the decoder, using `encoder_states` as initial state.\n",
    "decoder_inputs = Input(shape=(None, num_decoder_tokens))\n",
    "# We set up our decoder to return full output sequences,\n",
    "# and to return internal states as well. We don't use the\n",
    "# return states in the training model, but we will use them in inference.\n",
    "decoder_lstm = LSTM(latent_dim, return_sequences=True, return_state=True)\n",
    "decoder_outputs, _, _ = decoder_lstm(decoder_inputs,\n",
    "                                     initial_state=encoder_states)\n",
    "\n",
    "decoder_dense = Dense(num_decoder_tokens, activation='softmax')\n",
    "decoder_outputs = decoder_dense(decoder_outputs)"
   ]
  },
  {
   "cell_type": "markdown",
   "metadata": {},
   "source": [
    "Check for the shape of decoder_inputs"
   ]
  },
  {
   "cell_type": "code",
   "execution_count": 17,
   "metadata": {},
   "outputs": [
    {
     "name": "stdout",
     "output_type": "stream",
     "text": [
      "Tensor(\"input_2:0\", shape=(?, ?, 94), dtype=float32)\n"
     ]
    }
   ],
   "source": [
    "print(decoder_inputs)"
   ]
  },
  {
   "cell_type": "code",
   "execution_count": 18,
   "metadata": {},
   "outputs": [],
   "source": [
    "# Define the model that will turn\n",
    "# `encoder_input_data` & `decoder_input_data` into `decoder_target_data`\n",
    "model = Model([encoder_inputs, decoder_inputs], decoder_outputs)"
   ]
  },
  {
   "cell_type": "code",
   "execution_count": 19,
   "metadata": {},
   "outputs": [
    {
     "name": "stdout",
     "output_type": "stream",
     "text": [
      "Train on 8000 samples, validate on 2000 samples\n",
      "Epoch 1/100\n",
      "8000/8000 [==============================] - 15s 2ms/step - loss: 0.9195 - val_loss: 0.9683\n",
      "Epoch 2/100\n",
      "8000/8000 [==============================] - 11s 1ms/step - loss: 0.7246 - val_loss: 0.7748\n",
      "Epoch 3/100\n",
      "8000/8000 [==============================] - 11s 1ms/step - loss: 0.6184 - val_loss: 0.7042\n",
      "Epoch 4/100\n",
      "8000/8000 [==============================] - 11s 1ms/step - loss: 0.5612 - val_loss: 0.6570\n",
      "Epoch 5/100\n",
      "8000/8000 [==============================] - 11s 1ms/step - loss: 0.5218 - val_loss: 0.6169\n",
      "Epoch 6/100\n",
      "8000/8000 [==============================] - 11s 1ms/step - loss: 0.4893 - val_loss: 0.5851\n",
      "Epoch 7/100\n",
      "8000/8000 [==============================] - 11s 1ms/step - loss: 0.4625 - val_loss: 0.5680\n",
      "Epoch 8/100\n",
      "8000/8000 [==============================] - 11s 1ms/step - loss: 0.4408 - val_loss: 0.5512\n",
      "Epoch 9/100\n",
      "8000/8000 [==============================] - 11s 1ms/step - loss: 0.4204 - val_loss: 0.5396\n",
      "Epoch 10/100\n",
      "8000/8000 [==============================] - 11s 1ms/step - loss: 0.4032 - val_loss: 0.5164\n",
      "Epoch 11/100\n",
      "8000/8000 [==============================] - 11s 1ms/step - loss: 0.3868 - val_loss: 0.5099\n",
      "Epoch 12/100\n",
      "8000/8000 [==============================] - 11s 1ms/step - loss: 0.3724 - val_loss: 0.5002\n",
      "Epoch 13/100\n",
      "8000/8000 [==============================] - 11s 1ms/step - loss: 0.3587 - val_loss: 0.4987\n",
      "Epoch 14/100\n",
      "8000/8000 [==============================] - 11s 1ms/step - loss: 0.3463 - val_loss: 0.4906\n",
      "Epoch 15/100\n",
      "8000/8000 [==============================] - 11s 1ms/step - loss: 0.3341 - val_loss: 0.4786\n",
      "Epoch 16/100\n",
      "8000/8000 [==============================] - 11s 1ms/step - loss: 0.3229 - val_loss: 0.4788\n",
      "Epoch 17/100\n",
      "8000/8000 [==============================] - 11s 1ms/step - loss: 0.3118 - val_loss: 0.4714\n",
      "Epoch 18/100\n",
      "8000/8000 [==============================] - 11s 1ms/step - loss: 0.3019 - val_loss: 0.4729\n",
      "Epoch 19/100\n",
      "8000/8000 [==============================] - 11s 1ms/step - loss: 0.2923 - val_loss: 0.4716\n",
      "Epoch 20/100\n",
      "8000/8000 [==============================] - 11s 1ms/step - loss: 0.2830 - val_loss: 0.4684\n",
      "Epoch 21/100\n",
      "8000/8000 [==============================] - 11s 1ms/step - loss: 0.2742 - val_loss: 0.4718\n",
      "Epoch 22/100\n",
      "8000/8000 [==============================] - 11s 1ms/step - loss: 0.2660 - val_loss: 0.4685\n",
      "Epoch 23/100\n",
      "8000/8000 [==============================] - 11s 1ms/step - loss: 0.2581 - val_loss: 0.4658\n",
      "Epoch 24/100\n",
      "8000/8000 [==============================] - 11s 1ms/step - loss: 0.2504 - val_loss: 0.4666\n",
      "Epoch 25/100\n",
      "8000/8000 [==============================] - 11s 1ms/step - loss: 0.2430 - val_loss: 0.4748\n",
      "Epoch 26/100\n",
      "8000/8000 [==============================] - 11s 1ms/step - loss: 0.2359 - val_loss: 0.4719\n",
      "Epoch 27/100\n",
      "8000/8000 [==============================] - 11s 1ms/step - loss: 0.2294 - val_loss: 0.4814\n",
      "Epoch 28/100\n",
      "8000/8000 [==============================] - 11s 1ms/step - loss: 0.2229 - val_loss: 0.4804\n",
      "Epoch 29/100\n",
      "8000/8000 [==============================] - 11s 1ms/step - loss: 0.2166 - val_loss: 0.4829\n",
      "Epoch 30/100\n",
      "8000/8000 [==============================] - 11s 1ms/step - loss: 0.2107 - val_loss: 0.4830\n",
      "Epoch 31/100\n",
      "8000/8000 [==============================] - 11s 1ms/step - loss: 0.2051 - val_loss: 0.4878\n",
      "Epoch 32/100\n",
      "8000/8000 [==============================] - 11s 1ms/step - loss: 0.1997 - val_loss: 0.4895\n",
      "Epoch 33/100\n",
      "8000/8000 [==============================] - 11s 1ms/step - loss: 0.1945 - val_loss: 0.4927\n",
      "Epoch 34/100\n",
      "8000/8000 [==============================] - 11s 1ms/step - loss: 0.1894 - val_loss: 0.4998\n",
      "Epoch 35/100\n",
      "8000/8000 [==============================] - 11s 1ms/step - loss: 0.1849 - val_loss: 0.5010\n",
      "Epoch 36/100\n",
      "8000/8000 [==============================] - 11s 1ms/step - loss: 0.1799 - val_loss: 0.5083\n",
      "Epoch 37/100\n",
      "8000/8000 [==============================] - 11s 1ms/step - loss: 0.1755 - val_loss: 0.5101\n",
      "Epoch 38/100\n",
      "8000/8000 [==============================] - 11s 1ms/step - loss: 0.1712 - val_loss: 0.5136\n",
      "Epoch 39/100\n",
      "8000/8000 [==============================] - 11s 1ms/step - loss: 0.1670 - val_loss: 0.5212\n",
      "Epoch 40/100\n",
      "8000/8000 [==============================] - 11s 1ms/step - loss: 0.1634 - val_loss: 0.5226\n",
      "Epoch 41/100\n",
      "8000/8000 [==============================] - 11s 1ms/step - loss: 0.1594 - val_loss: 0.5270\n",
      "Epoch 42/100\n",
      "8000/8000 [==============================] - 11s 1ms/step - loss: 0.1556 - val_loss: 0.5301\n",
      "Epoch 43/100\n",
      "8000/8000 [==============================] - 11s 1ms/step - loss: 0.1524 - val_loss: 0.5364\n",
      "Epoch 44/100\n",
      "8000/8000 [==============================] - 11s 1ms/step - loss: 0.1490 - val_loss: 0.5382\n",
      "Epoch 45/100\n",
      "8000/8000 [==============================] - 11s 1ms/step - loss: 0.1454 - val_loss: 0.5424\n",
      "Epoch 46/100\n",
      "8000/8000 [==============================] - 11s 1ms/step - loss: 0.1425 - val_loss: 0.5491\n",
      "Epoch 47/100\n",
      "8000/8000 [==============================] - 11s 1ms/step - loss: 0.1394 - val_loss: 0.5534\n",
      "Epoch 48/100\n",
      "8000/8000 [==============================] - 11s 1ms/step - loss: 0.1366 - val_loss: 0.5626\n",
      "Epoch 49/100\n",
      "8000/8000 [==============================] - 11s 1ms/step - loss: 0.1338 - val_loss: 0.5658\n",
      "Epoch 50/100\n",
      "8000/8000 [==============================] - 11s 1ms/step - loss: 0.1313 - val_loss: 0.5665\n",
      "Epoch 51/100\n",
      "8000/8000 [==============================] - 11s 1ms/step - loss: 0.1287 - val_loss: 0.5732\n",
      "Epoch 52/100\n",
      "8000/8000 [==============================] - 11s 1ms/step - loss: 0.1259 - val_loss: 0.5740\n",
      "Epoch 53/100\n",
      "8000/8000 [==============================] - 11s 1ms/step - loss: 0.1235 - val_loss: 0.5827\n",
      "Epoch 54/100\n",
      "8000/8000 [==============================] - 11s 1ms/step - loss: 0.1213 - val_loss: 0.5856\n",
      "Epoch 55/100\n",
      "8000/8000 [==============================] - 11s 1ms/step - loss: 0.1189 - val_loss: 0.5933\n",
      "Epoch 56/100\n",
      "8000/8000 [==============================] - 11s 1ms/step - loss: 0.1167 - val_loss: 0.5937\n",
      "Epoch 57/100\n",
      "8000/8000 [==============================] - 11s 1ms/step - loss: 0.1147 - val_loss: 0.6003\n",
      "Epoch 58/100\n",
      "8000/8000 [==============================] - 11s 1ms/step - loss: 0.1128 - val_loss: 0.6002\n",
      "Epoch 59/100\n",
      "8000/8000 [==============================] - 11s 1ms/step - loss: 0.1109 - val_loss: 0.6099\n",
      "Epoch 60/100\n",
      "8000/8000 [==============================] - 11s 1ms/step - loss: 0.1085 - val_loss: 0.6141\n",
      "Epoch 61/100\n",
      "8000/8000 [==============================] - 11s 1ms/step - loss: 0.1067 - val_loss: 0.6153\n",
      "Epoch 62/100\n",
      "8000/8000 [==============================] - 11s 1ms/step - loss: 0.1049 - val_loss: 0.6222\n",
      "Epoch 63/100\n",
      "8000/8000 [==============================] - 11s 1ms/step - loss: 0.1035 - val_loss: 0.6239\n",
      "Epoch 64/100\n",
      "8000/8000 [==============================] - 11s 1ms/step - loss: 0.1014 - val_loss: 0.6249\n",
      "Epoch 65/100\n",
      "8000/8000 [==============================] - 11s 1ms/step - loss: 0.0997 - val_loss: 0.6330\n",
      "Epoch 66/100\n",
      "8000/8000 [==============================] - 11s 1ms/step - loss: 0.0983 - val_loss: 0.6365\n",
      "Epoch 67/100\n",
      "8000/8000 [==============================] - 11s 1ms/step - loss: 0.0966 - val_loss: 0.6411\n",
      "Epoch 68/100\n",
      "8000/8000 [==============================] - 11s 1ms/step - loss: 0.0950 - val_loss: 0.6471\n",
      "Epoch 69/100\n",
      "8000/8000 [==============================] - 11s 1ms/step - loss: 0.0934 - val_loss: 0.6473\n",
      "Epoch 70/100\n",
      "8000/8000 [==============================] - 11s 1ms/step - loss: 0.0921 - val_loss: 0.6506\n",
      "Epoch 71/100\n",
      "8000/8000 [==============================] - 11s 1ms/step - loss: 0.0906 - val_loss: 0.6543\n",
      "Epoch 72/100\n",
      "8000/8000 [==============================] - 11s 1ms/step - loss: 0.0894 - val_loss: 0.6528\n",
      "Epoch 73/100\n",
      "8000/8000 [==============================] - 11s 1ms/step - loss: 0.0876 - val_loss: 0.6658\n",
      "Epoch 74/100\n",
      "8000/8000 [==============================] - 11s 1ms/step - loss: 0.0866 - val_loss: 0.6647\n",
      "Epoch 75/100\n",
      "8000/8000 [==============================] - 11s 1ms/step - loss: 0.0854 - val_loss: 0.6669\n",
      "Epoch 76/100\n",
      "8000/8000 [==============================] - 11s 1ms/step - loss: 0.0839 - val_loss: 0.6733\n",
      "Epoch 77/100\n",
      "8000/8000 [==============================] - 11s 1ms/step - loss: 0.0827 - val_loss: 0.6783\n",
      "Epoch 78/100\n"
     ]
    },
    {
     "name": "stdout",
     "output_type": "stream",
     "text": [
      "8000/8000 [==============================] - 11s 1ms/step - loss: 0.0816 - val_loss: 0.6799\n",
      "Epoch 79/100\n",
      "8000/8000 [==============================] - 11s 1ms/step - loss: 0.0804 - val_loss: 0.6828\n",
      "Epoch 80/100\n",
      "8000/8000 [==============================] - 11s 1ms/step - loss: 0.0791 - val_loss: 0.6848\n",
      "Epoch 81/100\n",
      "8000/8000 [==============================] - 11s 1ms/step - loss: 0.0775 - val_loss: 0.6881\n",
      "Epoch 82/100\n",
      "8000/8000 [==============================] - 11s 1ms/step - loss: 0.0767 - val_loss: 0.6940\n",
      "Epoch 83/100\n",
      "8000/8000 [==============================] - 11s 1ms/step - loss: 0.0756 - val_loss: 0.7025\n",
      "Epoch 84/100\n",
      "8000/8000 [==============================] - 11s 1ms/step - loss: 0.0749 - val_loss: 0.7022\n",
      "Epoch 85/100\n",
      "8000/8000 [==============================] - 11s 1ms/step - loss: 0.0737 - val_loss: 0.7094\n",
      "Epoch 86/100\n",
      "8000/8000 [==============================] - 11s 1ms/step - loss: 0.0725 - val_loss: 0.7142\n",
      "Epoch 87/100\n",
      "8000/8000 [==============================] - 11s 1ms/step - loss: 0.0716 - val_loss: 0.7105\n",
      "Epoch 88/100\n",
      "8000/8000 [==============================] - 11s 1ms/step - loss: 0.0707 - val_loss: 0.7168\n",
      "Epoch 89/100\n",
      "8000/8000 [==============================] - 11s 1ms/step - loss: 0.0698 - val_loss: 0.7152\n",
      "Epoch 90/100\n",
      "8000/8000 [==============================] - 11s 1ms/step - loss: 0.0686 - val_loss: 0.7157\n",
      "Epoch 91/100\n",
      "8000/8000 [==============================] - 11s 1ms/step - loss: 0.0678 - val_loss: 0.7228\n",
      "Epoch 92/100\n",
      "8000/8000 [==============================] - 11s 1ms/step - loss: 0.0668 - val_loss: 0.7281\n",
      "Epoch 93/100\n",
      "8000/8000 [==============================] - 11s 1ms/step - loss: 0.0658 - val_loss: 0.7311\n",
      "Epoch 94/100\n",
      "8000/8000 [==============================] - 11s 1ms/step - loss: 0.0651 - val_loss: 0.7360\n",
      "Epoch 95/100\n",
      "8000/8000 [==============================] - 11s 1ms/step - loss: 0.0643 - val_loss: 0.7424\n",
      "Epoch 96/100\n",
      "8000/8000 [==============================] - 11s 1ms/step - loss: 0.0634 - val_loss: 0.7308\n",
      "Epoch 97/100\n",
      "8000/8000 [==============================] - 11s 1ms/step - loss: 0.0626 - val_loss: 0.7362\n",
      "Epoch 98/100\n",
      "8000/8000 [==============================] - 11s 1ms/step - loss: 0.0618 - val_loss: 0.7403\n",
      "Epoch 99/100\n",
      "8000/8000 [==============================] - 11s 1ms/step - loss: 0.0611 - val_loss: 0.7448\n",
      "Epoch 100/100\n",
      "8000/8000 [==============================] - 11s 1ms/step - loss: 0.0600 - val_loss: 0.7492\n"
     ]
    },
    {
     "data": {
      "text/plain": [
       "<keras.callbacks.History at 0x7f58d429b908>"
      ]
     },
     "execution_count": 19,
     "metadata": {},
     "output_type": "execute_result"
    }
   ],
   "source": [
    "# Run training\n",
    "model.compile(optimizer='rmsprop', loss='categorical_crossentropy')\n",
    "model.fit([encoder_input_data, decoder_input_data], decoder_target_data,\n",
    "          batch_size=batch_size,\n",
    "          epochs=epochs,\n",
    "          validation_split=0.2)"
   ]
  },
  {
   "cell_type": "code",
   "execution_count": 47,
   "metadata": {},
   "outputs": [
    {
     "name": "stderr",
     "output_type": "stream",
     "text": [
      "/home/seung/.venv/py3Keras/lib/python3.5/site-packages/keras/engine/topology.py:2344: UserWarning: Layer lstm_2 was passed non-serializable keyword arguments: {'initial_state': [<tf.Tensor 'lstm_1/while/Exit_2:0' shape=(?, 256) dtype=float32>, <tf.Tensor 'lstm_1/while/Exit_3:0' shape=(?, 256) dtype=float32>]}. They will not be included in the serialized model (and thus will be missing at deserialization time).\n",
      "  str(node.arguments) + '. They will not be included '\n"
     ]
    }
   ],
   "source": [
    "# Save model\n",
    "# See https://jovianlin.io/saving-loading-keras-models/\n",
    "model.save('s2s_model.h5')"
   ]
  },
  {
   "cell_type": "code",
   "execution_count": 45,
   "metadata": {},
   "outputs": [
    {
     "name": "stdout",
     "output_type": "stream",
     "text": [
      "__________________________________________________________________________________________________\n",
      "Layer (type)                    Output Shape         Param #     Connected to                     \n",
      "==================================================================================================\n",
      "input_1 (InputLayer)            (None, None, 71)     0                                            \n",
      "__________________________________________________________________________________________________\n",
      "input_2 (InputLayer)            (None, None, 94)     0                                            \n",
      "__________________________________________________________________________________________________\n",
      "lstm_1 (LSTM)                   [(None, 256), (None, 335872      input_1[0][0]                    \n",
      "__________________________________________________________________________________________________\n",
      "lstm_2 (LSTM)                   [(None, None, 256),  359424      input_2[0][0]                    \n",
      "                                                                 lstm_1[0][1]                     \n",
      "                                                                 lstm_1[0][2]                     \n",
      "__________________________________________________________________________________________________\n",
      "dense_1 (Dense)                 (None, None, 94)     24158       lstm_2[0][0]                     \n",
      "==================================================================================================\n",
      "Total params: 719,454\n",
      "Trainable params: 719,454\n",
      "Non-trainable params: 0\n",
      "__________________________________________________________________________________________________\n"
     ]
    }
   ],
   "source": [
    "model.summary()"
   ]
  },
  {
   "cell_type": "code",
   "execution_count": 46,
   "metadata": {},
   "outputs": [
    {
     "name": "stdout",
     "output_type": "stream",
     "text": [
      "data  s2s_model_architecture.json  testseq2seq.ipynb\r\n"
     ]
    }
   ],
   "source": [
    "!ls"
   ]
  },
  {
   "cell_type": "markdown",
   "metadata": {},
   "source": [
    "## Next: inference mode (sampling)"
   ]
  },
  {
   "cell_type": "markdown",
   "metadata": {},
   "source": [
    "* Here's the drill:\n",
    "* 1) encode input and retrieve initial decoder state\n",
    "* 2) run one step of decoder with this initial state and a \"start of sequence\" token as target. Output will be the next target token\n",
    "* 3) Repeat with the current target token and current states"
   ]
  },
  {
   "cell_type": "code",
   "execution_count": 29,
   "metadata": {},
   "outputs": [],
   "source": [
    "# Define sampling models\n",
    "encoder_model = Model(encoder_inputs, encoder_states)"
   ]
  },
  {
   "cell_type": "code",
   "execution_count": 24,
   "metadata": {},
   "outputs": [],
   "source": [
    "decoder_state_input_h = Input(shape=(latent_dim,))\n",
    "decoder_state_input_c = Input(shape=(latent_dim,))\n",
    "decoder_states_inputs = [decoder_state_input_h, decoder_state_input_c]\n",
    "decoder_outputs, state_h, state_c = decoder_lstm(\n",
    "    decoder_inputs, initial_state=decoder_states_inputs)\n",
    "\n",
    "decoder_states = [state_h, state_c]\n",
    "decoder_outputs = decoder_dense(decoder_outputs)\n",
    "decoder_model = Model(\n",
    "    [decoder_inputs] + decoder_states_inputs,\n",
    "    [decoder_outputs] + decoder_states)"
   ]
  },
  {
   "cell_type": "markdown",
   "metadata": {},
   "source": [
    "decoder는 states inputs 만 있음"
   ]
  },
  {
   "cell_type": "code",
   "execution_count": 30,
   "metadata": {},
   "outputs": [
    {
     "name": "stdout",
     "output_type": "stream",
     "text": [
      "dict_items([('c', 47), ('!', 1), ('%', 3), ('?', 20), ('q', 61), ('y', 69), ('6', 15), ('U', 41), ('e', 49), ('f', 50), ('J', 30), ('S', 39), ('4', 13), ('A', 21), ('a', 45), ('n', 58), ('b', 46), ('Q', 37), ('1', 10), ('K', 31), ('9', 18), ('C', 23), ('j', 54), ('m', 57), ('g', 51), ('H', 28), ('0', 9), ('B', 22), ('E', 25), ('u', 65), ('N', 34), (',', 6), ('2', 11), ('&', 4), ('7', 16), ('k', 55), ('i', 53), ('W', 43), ('M', 33), ('T', 40), ('F', 26), ('V', 42), ('w', 67), ('D', 24), ('$', 2), ('o', 59), ('Y', 44), ('z', 70), ('l', 56), (':', 19), ('r', 62), ('L', 32), ('p', 60), ('8', 17), ('s', 63), ('-', 7), ('x', 68), ('v', 66), ('t', 64), ('d', 48), ('3', 12), ('O', 35), ('5', 14), (' ', 0), ('G', 27), ('I', 29), ('.', 8), ('R', 38), (\"'\", 5), ('P', 36), ('h', 52)])\n"
     ]
    }
   ],
   "source": [
    "print(input_token_index.items())"
   ]
  },
  {
   "cell_type": "code",
   "execution_count": 31,
   "metadata": {},
   "outputs": [],
   "source": [
    "# Reverse-lookup token index to decode sequences back to something readable.\n",
    "reverse_input_char_index = dict(\n",
    "    (i, char) for char, i in input_token_index.items())\n",
    "reverse_target_char_index = dict(\n",
    "    (i, char) for char, i in target_token_index.items())"
   ]
  },
  {
   "cell_type": "code",
   "execution_count": 66,
   "metadata": {},
   "outputs": [],
   "source": [
    "def decode_sequence(input_seq):\n",
    "    # Encode the input as state vectors.\n",
    "    states_value = encoder_model.predict(input_seq)\n",
    "\n",
    "    # Generate empty target sequence of length 1.\n",
    "    target_seq = np.zeros((1, 1, num_decoder_tokens))\n",
    "    # Populate the first character of target sequence with the start character.\n",
    "    target_seq[0, 0, target_token_index['\\t']] = 1.\n",
    "\n",
    "    # Sampling loop for a batch of sequences\n",
    "    # (to simplify, here we assume a batch of size 1).\n",
    "    stop_condition = False\n",
    "    decoded_sentence = ''\n",
    "    \n",
    "    while not stop_condition:\n",
    "        output_tokens, h, c = decoder_model.predict(\n",
    "            [target_seq] + states_value)\n",
    "        #print([target_seq] + states_value)\n",
    "        # Sample a token\n",
    "        #print(np.shape(output_tokens)) # (1, 1, 94)\n",
    "        sampled_token_index = np.argmax(output_tokens[0, -1, :])\n",
    "        sampled_char = reverse_target_char_index[sampled_token_index]\n",
    "        decoded_sentence += sampled_char\n",
    "        \n",
    "        if (sampled_char != '\\n'):\n",
    "            print('{} <--- sampled_char : {}'.format(decoded_sentence, sampled_char))\n",
    "        # Exit condition: either hit max length\n",
    "        # or find stop character.\n",
    "        if (sampled_char == '\\n' or\n",
    "           len(decoded_sentence) > max_decoder_seq_length):\n",
    "            stop_condition = True\n",
    "\n",
    "        # Update the target sequence (of length 1).\n",
    "        target_seq = np.zeros((1, 1, num_decoder_tokens))\n",
    "        target_seq[0, 0, sampled_token_index] = 1.\n",
    "\n",
    "        # Update states\n",
    "        states_value = [h, c]\n",
    "\n",
    "    return decoded_sentence\n"
   ]
  },
  {
   "cell_type": "code",
   "execution_count": 67,
   "metadata": {},
   "outputs": [
    {
     "name": "stdout",
     "output_type": "stream",
     "text": [
      "[array([[[0., 0., 0., ..., 0., 0., 0.],\n",
      "        [0., 0., 0., ..., 0., 0., 0.],\n",
      "        [0., 0., 0., ..., 0., 0., 0.],\n",
      "        ...,\n",
      "        [0., 0., 0., ..., 0., 0., 0.],\n",
      "        [0., 0., 0., ..., 0., 0., 0.],\n",
      "        [0., 0., 0., ..., 0., 0., 0.]]], dtype=float32)]\n",
      "(1, 16, 71)\n"
     ]
    }
   ],
   "source": [
    "input_seq0 =  encoder_input_data[0: 0+1]\n",
    "print([input_seq0])\n",
    "print(np.shape(input_seq0))"
   ]
  },
  {
   "cell_type": "code",
   "execution_count": 68,
   "metadata": {},
   "outputs": [
    {
     "name": "stdout",
     "output_type": "stream",
     "text": [
      "(1, 1, 94)\n",
      "V <--- sampled_char : V\n",
      "(1, 1, 94)\n",
      "Va <--- sampled_char : a\n",
      "(1, 1, 94)\n",
      "Va  <--- sampled_char :  \n",
      "(1, 1, 94)\n",
      "Va ! <--- sampled_char : !\n",
      "(1, 1, 94)\n",
      "-\n",
      "Input sentence: Go.\n",
      "Decoded sentence: Va !\n",
      "\n",
      "(1, 1, 94)\n",
      "C <--- sampled_char : C\n",
      "(1, 1, 94)\n",
      "Co <--- sampled_char : o\n",
      "(1, 1, 94)\n",
      "Cou <--- sampled_char : u\n",
      "(1, 1, 94)\n",
      "Cour <--- sampled_char : r\n",
      "(1, 1, 94)\n",
      "Cours <--- sampled_char : s\n",
      "(1, 1, 94)\n",
      "Cours  <--- sampled_char :  \n",
      "(1, 1, 94)\n",
      "Cours ! <--- sampled_char : !\n",
      "(1, 1, 94)\n",
      "-\n",
      "Input sentence: Run!\n",
      "Decoded sentence: Cours !\n",
      "\n",
      "(1, 1, 94)\n",
      "C <--- sampled_char : C\n",
      "(1, 1, 94)\n",
      "Co <--- sampled_char : o\n",
      "(1, 1, 94)\n",
      "Cou <--- sampled_char : u\n",
      "(1, 1, 94)\n",
      "Cour <--- sampled_char : r\n",
      "(1, 1, 94)\n",
      "Cours <--- sampled_char : s\n",
      "(1, 1, 94)\n",
      "Cours  <--- sampled_char :  \n",
      "(1, 1, 94)\n",
      "Cours ! <--- sampled_char : !\n",
      "(1, 1, 94)\n",
      "-\n",
      "Input sentence: Run!\n",
      "Decoded sentence: Cours !\n",
      "\n",
      "(1, 1, 94)\n",
      "A <--- sampled_char : A\n",
      "(1, 1, 94)\n",
      "Au <--- sampled_char : u\n",
      "(1, 1, 94)\n",
      "Au  <--- sampled_char :  \n",
      "(1, 1, 94)\n",
      "Au f <--- sampled_char : f\n",
      "(1, 1, 94)\n",
      "Au fe <--- sampled_char : e\n",
      "(1, 1, 94)\n",
      "Au feu <--- sampled_char : u\n",
      "(1, 1, 94)\n",
      "Au feu  <--- sampled_char :  \n",
      "(1, 1, 94)\n",
      "Au feu ! <--- sampled_char : !\n",
      "(1, 1, 94)\n",
      "-\n",
      "Input sentence: Fire!\n",
      "Decoded sentence: Au feu !\n",
      "\n",
      "(1, 1, 94)\n",
      "À <--- sampled_char : À\n",
      "(1, 1, 94)\n",
      "À  <--- sampled_char :  \n",
      "(1, 1, 94)\n",
      "À l <--- sampled_char : l\n",
      "(1, 1, 94)\n",
      "À l' <--- sampled_char : '\n",
      "(1, 1, 94)\n",
      "À l'a <--- sampled_char : a\n",
      "(1, 1, 94)\n",
      "À l'ai <--- sampled_char : i\n",
      "(1, 1, 94)\n",
      "À l'aid <--- sampled_char : d\n",
      "(1, 1, 94)\n",
      "À l'aide <--- sampled_char : e\n",
      "(1, 1, 94)\n",
      "À l'aide  <--- sampled_char :  \n",
      "(1, 1, 94)\n",
      "À l'aide ! <--- sampled_char : !\n",
      "(1, 1, 94)\n",
      "-\n",
      "Input sentence: Help!\n",
      "Decoded sentence: À l'aide !\n",
      "\n",
      "(1, 1, 94)\n",
      "S <--- sampled_char : S\n",
      "(1, 1, 94)\n",
      "Sa <--- sampled_char : a\n",
      "(1, 1, 94)\n",
      "Sau <--- sampled_char : u\n",
      "(1, 1, 94)\n",
      "Saut <--- sampled_char : t\n",
      "(1, 1, 94)\n",
      "Saute <--- sampled_char : e\n",
      "(1, 1, 94)\n",
      "Saute. <--- sampled_char : .\n",
      "(1, 1, 94)\n",
      "-\n",
      "Input sentence: Jump.\n",
      "Decoded sentence: Saute.\n",
      "\n",
      "(1, 1, 94)\n",
      "Ç <--- sampled_char : Ç\n",
      "(1, 1, 94)\n",
      "Ça <--- sampled_char : a\n",
      "(1, 1, 94)\n",
      "Ça  <--- sampled_char :  \n",
      "(1, 1, 94)\n",
      "Ça s <--- sampled_char : s\n",
      "(1, 1, 94)\n",
      "Ça su <--- sampled_char : u\n",
      "(1, 1, 94)\n",
      "Ça suf <--- sampled_char : f\n",
      "(1, 1, 94)\n",
      "Ça suff <--- sampled_char : f\n",
      "(1, 1, 94)\n",
      "Ça suffi <--- sampled_char : i\n",
      "(1, 1, 94)\n",
      "Ça suffit <--- sampled_char : t\n",
      "(1, 1, 94)\n",
      "Ça suffit  <--- sampled_char :  \n",
      "(1, 1, 94)\n",
      "Ça suffit ! <--- sampled_char : !\n",
      "(1, 1, 94)\n",
      "-\n",
      "Input sentence: Stop!\n",
      "Decoded sentence: Ça suffit !\n",
      "\n",
      "(1, 1, 94)\n",
      "Ç <--- sampled_char : Ç\n",
      "(1, 1, 94)\n",
      "Ça <--- sampled_char : a\n",
      "(1, 1, 94)\n",
      "Ça  <--- sampled_char :  \n",
      "(1, 1, 94)\n",
      "Ça s <--- sampled_char : s\n",
      "(1, 1, 94)\n",
      "Ça su <--- sampled_char : u\n",
      "(1, 1, 94)\n",
      "Ça suf <--- sampled_char : f\n",
      "(1, 1, 94)\n",
      "Ça suff <--- sampled_char : f\n",
      "(1, 1, 94)\n",
      "Ça suffi <--- sampled_char : i\n",
      "(1, 1, 94)\n",
      "Ça suffit <--- sampled_char : t\n",
      "(1, 1, 94)\n",
      "Ça suffit  <--- sampled_char :  \n",
      "(1, 1, 94)\n",
      "Ça suffit ! <--- sampled_char : !\n",
      "(1, 1, 94)\n",
      "-\n",
      "Input sentence: Stop!\n",
      "Decoded sentence: Ça suffit !\n",
      "\n",
      "(1, 1, 94)\n",
      "Ç <--- sampled_char : Ç\n",
      "(1, 1, 94)\n",
      "Ça <--- sampled_char : a\n",
      "(1, 1, 94)\n",
      "Ça  <--- sampled_char :  \n",
      "(1, 1, 94)\n",
      "Ça s <--- sampled_char : s\n",
      "(1, 1, 94)\n",
      "Ça su <--- sampled_char : u\n",
      "(1, 1, 94)\n",
      "Ça suf <--- sampled_char : f\n",
      "(1, 1, 94)\n",
      "Ça suff <--- sampled_char : f\n",
      "(1, 1, 94)\n",
      "Ça suffi <--- sampled_char : i\n",
      "(1, 1, 94)\n",
      "Ça suffit <--- sampled_char : t\n",
      "(1, 1, 94)\n",
      "Ça suffit  <--- sampled_char :  \n",
      "(1, 1, 94)\n",
      "Ça suffit ! <--- sampled_char : !\n",
      "(1, 1, 94)\n",
      "-\n",
      "Input sentence: Stop!\n",
      "Decoded sentence: Ça suffit !\n",
      "\n",
      "(1, 1, 94)\n",
      "A <--- sampled_char : A\n",
      "(1, 1, 94)\n",
      "At <--- sampled_char : t\n",
      "(1, 1, 94)\n",
      "Att <--- sampled_char : t\n",
      "(1, 1, 94)\n",
      "Atte <--- sampled_char : e\n",
      "(1, 1, 94)\n",
      "Atten <--- sampled_char : n\n",
      "(1, 1, 94)\n",
      "Attend <--- sampled_char : d\n",
      "(1, 1, 94)\n",
      "Attends <--- sampled_char : s\n",
      "(1, 1, 94)\n",
      "Attends  <--- sampled_char :  \n",
      "(1, 1, 94)\n",
      "Attends ! <--- sampled_char : !\n",
      "(1, 1, 94)\n",
      "-\n",
      "Input sentence: Wait!\n",
      "Decoded sentence: Attends !\n",
      "\n"
     ]
    }
   ],
   "source": [
    "for seq_index in range(10):\n",
    "    # Take one sequence (part of the training set)\n",
    "    # for trying out decoding.\n",
    "    input_seq = encoder_input_data[seq_index: seq_index + 1]\n",
    "    decoded_sentence = decode_sequence(input_seq)\n",
    "    print('-')\n",
    "    print('Input sentence:', input_texts[seq_index])\n",
    "    print('Decoded sentence:', decoded_sentence)"
   ]
  },
  {
   "cell_type": "markdown",
   "metadata": {},
   "source": [
    "### TODO \n",
    "* load the saved model and decode sentence from the model (using the sampling..)"
   ]
  }
 ],
 "metadata": {
  "kernelspec": {
   "display_name": "Py35_keras",
   "language": "python",
   "name": "py35_keras"
  },
  "language_info": {
   "codemirror_mode": {
    "name": "ipython",
    "version": 3
   },
   "file_extension": ".py",
   "mimetype": "text/x-python",
   "name": "python",
   "nbconvert_exporter": "python",
   "pygments_lexer": "ipython3",
   "version": "3.5.2"
  }
 },
 "nbformat": 4,
 "nbformat_minor": 2
}
