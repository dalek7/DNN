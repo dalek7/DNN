{
 "cells": [
  {
   "cell_type": "code",
   "execution_count": 1,
   "metadata": {},
   "outputs": [
    {
     "name": "stderr",
     "output_type": "stream",
     "text": [
      "/home/seung/.venv/py3Keras/lib/python3.5/importlib/_bootstrap.py:222: RuntimeWarning: numpy.dtype size changed, may indicate binary incompatibility. Expected 96, got 88\n",
      "  return f(*args, **kwds)\n",
      "Using TensorFlow backend.\n",
      "/home/seung/.venv/py3Keras/lib/python3.5/importlib/_bootstrap.py:222: RuntimeWarning: numpy.dtype size changed, may indicate binary incompatibility. Expected 96, got 88\n",
      "  return f(*args, **kwds)\n",
      "/home/seung/.venv/py3Keras/lib/python3.5/importlib/_bootstrap.py:222: RuntimeWarning: numpy.dtype size changed, may indicate binary incompatibility. Expected 96, got 88\n",
      "  return f(*args, **kwds)\n"
     ]
    }
   ],
   "source": [
    "from random import randint\n",
    "from numpy import array\n",
    "from numpy import argmax\n",
    "from numpy import array_equal\n",
    "from keras.utils import to_categorical\n",
    "from keras.models import Model\n",
    "from keras.layers import Input\n",
    "from keras.layers import LSTM\n",
    "from keras.layers import Dense"
   ]
  },
  {
   "cell_type": "code",
   "execution_count": 2,
   "metadata": {},
   "outputs": [],
   "source": [
    "# generate a sequence of random integers\n",
    "def generate_sequence(length, n_unique):\n",
    "    return [randint(1, n_unique - 1) for _ in range(length)]"
   ]
  },
  {
   "cell_type": "code",
   "execution_count": 3,
   "metadata": {},
   "outputs": [
    {
     "name": "stdout",
     "output_type": "stream",
     "text": [
      "[4, 4, 5, 1, 6]\n"
     ]
    }
   ],
   "source": [
    "seq1 = generate_sequence(5, 10)\n",
    "print(seq1)"
   ]
  },
  {
   "cell_type": "markdown",
   "metadata": {},
   "source": [
    "* n_features 는 cardinality \n",
    "* cardinality : the number of elements in a set or other grouping, as a property of that grouping.\n",
    "* n_input : The cardinality of the input sequence, e.g. number of features, words, or characters for each time step.\n",
    "* 다음과 같이 쓰임. 차원 정도로 생각\n",
    "```\n",
    "src_encoded = to_categorical([source], num_classes=cardinality)\n",
    "```"
   ]
  },
  {
   "cell_type": "code",
   "execution_count": 4,
   "metadata": {},
   "outputs": [
    {
     "name": "stdout",
     "output_type": "stream",
     "text": [
      "[5, 2, 6, 5, 8, 1]\n",
      "[[[0. 0. 0. 0. 0. 1. 0. 0. 0. 0.]\n",
      "  [0. 0. 1. 0. 0. 0. 0. 0. 0. 0.]\n",
      "  [0. 0. 0. 0. 0. 0. 1. 0. 0. 0.]\n",
      "  [0. 0. 0. 0. 0. 1. 0. 0. 0. 0.]\n",
      "  [0. 0. 0. 0. 0. 0. 0. 0. 1. 0.]\n",
      "  [0. 1. 0. 0. 0. 0. 0. 0. 0. 0.]]]\n",
      "[5, 2, 6]\n",
      "[6, 2, 5] reversed\n",
      "[0, 6, 2]\n"
     ]
    }
   ],
   "source": [
    "cardinality = 10\n",
    "n_in = 6\n",
    "n_out = 3\n",
    "\n",
    "source1 = generate_sequence(n_in, cardinality)\n",
    "print(source1)\n",
    "src_encoded1 = to_categorical([source1], num_classes=cardinality)\n",
    "print(src_encoded1)\n",
    "\n",
    "target1 = source1[:n_out]\n",
    "print(target1)\n",
    "target1.reverse()\n",
    "print('{} reversed'.format(target1))\n",
    "target_in1 = [0] + target1[:-1]\n",
    "print(target_in1)"
   ]
  },
  {
   "cell_type": "code",
   "execution_count": 5,
   "metadata": {},
   "outputs": [],
   "source": [
    "# prepare data for the LSTM\n",
    "\n",
    "def get_dataset(n_in, n_out, cardinality, n_samples):\n",
    "    X1, X2, y = list(), list(), list()\n",
    "    for _ in range(n_samples):\n",
    "        # generate source sequence\n",
    "        source = generate_sequence(n_in, cardinality)\n",
    "        # define padded target sequence\n",
    "        target = source[:n_out]\n",
    "        target.reverse() # just a rule for generating target signals\n",
    "        # create padded input target sequence\n",
    "        target_in = [0] + target[:-1]\n",
    "        # encode\n",
    "        '''\n",
    "        src_encoded = to_categorical([source], num_classes=cardinality)\n",
    "        tar_encoded = to_categorical([target], num_classes=cardinality)\n",
    "        tar2_encoded = to_categorical([target_in], num_classes=cardinality)\n",
    "        ''' \n",
    "        src_encoded = to_categorical([source], num_classes=cardinality)[0]\n",
    "        tar_encoded = to_categorical([target], num_classes=cardinality)[0]\n",
    "        tar2_encoded = to_categorical([target_in], num_classes=cardinality)[0]\n",
    "\n",
    "        # store\n",
    "        X1.append(src_encoded)\n",
    "        X2.append(tar2_encoded)\n",
    "        y.append(tar_encoded)\n",
    "    return array(X1), array(X2), array(y)"
   ]
  },
  {
   "cell_type": "code",
   "execution_count": 6,
   "metadata": {},
   "outputs": [],
   "source": [
    "# returns train, inference_encoder and inference_decoder models\n",
    "# n_units = latent_dim\n",
    "def define_models(n_input, n_output, n_units):\n",
    "    # define training encoder\n",
    "    encoder_inputs = Input(shape=(None, n_input))\n",
    "    encoder = LSTM(n_units, return_state=True)\n",
    "    encoder_outputs, state_h, state_c = encoder(encoder_inputs)\n",
    "    encoder_states = [state_h, state_c]\n",
    "    # define training decoder\n",
    "    decoder_inputs = Input(shape=(None, n_output))\n",
    "    decoder_lstm = LSTM(n_units, return_sequences=True, return_state=True)\n",
    "    decoder_outputs, _, _ = decoder_lstm(decoder_inputs, initial_state=encoder_states)\n",
    "    decoder_dense = Dense(n_output, activation='softmax')\n",
    "    decoder_outputs = decoder_dense(decoder_outputs)\n",
    "    model = Model([encoder_inputs, decoder_inputs], decoder_outputs)\n",
    "    # define inference encoder\n",
    "    encoder_model = Model(encoder_inputs, encoder_states)\n",
    "    # define inference decoder\n",
    "    decoder_state_input_h = Input(shape=(n_units,))\n",
    "    decoder_state_input_c = Input(shape=(n_units,))\n",
    "    decoder_states_inputs = [decoder_state_input_h, decoder_state_input_c]\n",
    "    decoder_outputs, state_h, state_c = decoder_lstm(decoder_inputs, initial_state=decoder_states_inputs)\n",
    "    decoder_states = [state_h, state_c]\n",
    "    decoder_outputs = decoder_dense(decoder_outputs)\n",
    "    decoder_model = Model([decoder_inputs] + decoder_states_inputs, [decoder_outputs] + decoder_states)\n",
    "    # return all models\n",
    "    return model, encoder_model, decoder_model"
   ]
  },
  {
   "cell_type": "markdown",
   "metadata": {},
   "source": [
    "* n_input: The cardinality of the input sequence, e.g. number of features, words, or characters for each time step.\n",
    "* n_output: The cardinality of the output sequence, e.g. number of features, words, or characters for each time step.\n",
    "* n_units: The number of cells to create in the encoder and decoder models, e.g. 128 or 256. n_units  is equal to latent_dim"
   ]
  },
  {
   "cell_type": "code",
   "execution_count": 7,
   "metadata": {},
   "outputs": [],
   "source": [
    "# generate target given source sequence\n",
    "def predict_sequence(infenc, infdec, source, n_steps, cardinality):\n",
    "    # encode\n",
    "    state = infenc.predict(source)\n",
    "    # start of sequence input\n",
    "    target_seq = array([0.0 for _ in range(cardinality)]).reshape(1, 1, cardinality)\n",
    "    # collect predictions\n",
    "    output = list()\n",
    "    for t in range(n_steps):\n",
    "        # predict next char\n",
    "        yhat, h, c = infdec.predict([target_seq] + state)\n",
    "        # store prediction\n",
    "        output.append(yhat[0, 0, :])\n",
    "        # update state\n",
    "        state = [h, c]\n",
    "        # update target sequence\n",
    "        target_seq = yhat\n",
    "    return array(output)"
   ]
  },
  {
   "cell_type": "code",
   "execution_count": 8,
   "metadata": {},
   "outputs": [],
   "source": [
    "# decode a one hot encoded string\n",
    "def one_hot_decode(encoded_seq):\n",
    "    return [argmax(vector) for vector in encoded_seq]"
   ]
  },
  {
   "cell_type": "code",
   "execution_count": 9,
   "metadata": {},
   "outputs": [],
   "source": [
    "# configure problem\n",
    "n_features = 50 + 1 # cardinality\n",
    "n_steps_in = 6\n",
    "n_steps_out = 3\n",
    "# define model\n",
    "train, infenc, infdec = define_models(n_features, n_features, 128)"
   ]
  },
  {
   "cell_type": "markdown",
   "metadata": {},
   "source": [
    "0~50 까지의 숫자 분포를 갖게 됨"
   ]
  },
  {
   "cell_type": "code",
   "execution_count": 10,
   "metadata": {},
   "outputs": [
    {
     "name": "stdout",
     "output_type": "stream",
     "text": [
      "__________________________________________________________________________________________________\n",
      "Layer (type)                    Output Shape         Param #     Connected to                     \n",
      "==================================================================================================\n",
      "input_1 (InputLayer)            (None, None, 51)     0                                            \n",
      "__________________________________________________________________________________________________\n",
      "input_2 (InputLayer)            (None, None, 51)     0                                            \n",
      "__________________________________________________________________________________________________\n",
      "lstm_1 (LSTM)                   [(None, 128), (None, 92160       input_1[0][0]                    \n",
      "__________________________________________________________________________________________________\n",
      "lstm_2 (LSTM)                   [(None, None, 128),  92160       input_2[0][0]                    \n",
      "                                                                 lstm_1[0][1]                     \n",
      "                                                                 lstm_1[0][2]                     \n",
      "__________________________________________________________________________________________________\n",
      "dense_1 (Dense)                 (None, None, 51)     6579        lstm_2[0][0]                     \n",
      "==================================================================================================\n",
      "Total params: 190,899\n",
      "Trainable params: 190,899\n",
      "Non-trainable params: 0\n",
      "__________________________________________________________________________________________________\n"
     ]
    }
   ],
   "source": [
    "train.summary()"
   ]
  },
  {
   "cell_type": "code",
   "execution_count": 11,
   "metadata": {},
   "outputs": [
    {
     "name": "stdout",
     "output_type": "stream",
     "text": [
      "_________________________________________________________________\n",
      "Layer (type)                 Output Shape              Param #   \n",
      "=================================================================\n",
      "input_1 (InputLayer)         (None, None, 51)          0         \n",
      "_________________________________________________________________\n",
      "lstm_1 (LSTM)                [(None, 128), (None, 128) 92160     \n",
      "=================================================================\n",
      "Total params: 92,160\n",
      "Trainable params: 92,160\n",
      "Non-trainable params: 0\n",
      "_________________________________________________________________\n"
     ]
    }
   ],
   "source": [
    "infenc.summary()"
   ]
  },
  {
   "cell_type": "code",
   "execution_count": 12,
   "metadata": {},
   "outputs": [
    {
     "name": "stdout",
     "output_type": "stream",
     "text": [
      "__________________________________________________________________________________________________\n",
      "Layer (type)                    Output Shape         Param #     Connected to                     \n",
      "==================================================================================================\n",
      "input_2 (InputLayer)            (None, None, 51)     0                                            \n",
      "__________________________________________________________________________________________________\n",
      "input_3 (InputLayer)            (None, 128)          0                                            \n",
      "__________________________________________________________________________________________________\n",
      "input_4 (InputLayer)            (None, 128)          0                                            \n",
      "__________________________________________________________________________________________________\n",
      "lstm_2 (LSTM)                   [(None, None, 128),  92160       input_2[0][0]                    \n",
      "                                                                 input_3[0][0]                    \n",
      "                                                                 input_4[0][0]                    \n",
      "__________________________________________________________________________________________________\n",
      "dense_1 (Dense)                 (None, None, 51)     6579        lstm_2[1][0]                     \n",
      "==================================================================================================\n",
      "Total params: 98,739\n",
      "Trainable params: 98,739\n",
      "Non-trainable params: 0\n",
      "__________________________________________________________________________________________________\n"
     ]
    }
   ],
   "source": [
    "infdec.summary()"
   ]
  },
  {
   "cell_type": "code",
   "execution_count": 13,
   "metadata": {},
   "outputs": [
    {
     "name": "stdout",
     "output_type": "stream",
     "text": [
      "(100000, 6, 51) (100000, 3, 51) (100000, 3, 51)\n"
     ]
    }
   ],
   "source": [
    "train.compile(optimizer='adam', loss='categorical_crossentropy', metrics=['acc'])\n",
    "# generate training dataset\n",
    "X1, X2, y = get_dataset(n_steps_in, n_steps_out, n_features, 100000)#100000\n",
    "print(X1.shape, X2.shape, y.shape)"
   ]
  },
  {
   "cell_type": "code",
   "execution_count": 14,
   "metadata": {},
   "outputs": [
    {
     "name": "stdout",
     "output_type": "stream",
     "text": [
      "Epoch 1/5\n",
      "100000/100000 [==============================] - 63s 630us/step - loss: 0.6357 - acc: 0.7962\n",
      "Epoch 2/5\n",
      "100000/100000 [==============================] - 59s 590us/step - loss: 0.0090 - acc: 0.9995\n",
      "Epoch 3/5\n",
      "100000/100000 [==============================] - 59s 590us/step - loss: 0.0042 - acc: 0.9993\n",
      "Epoch 4/5\n",
      "100000/100000 [==============================] - 59s 589us/step - loss: 0.0027 - acc: 0.9996\n",
      "Epoch 5/5\n",
      "100000/100000 [==============================] - 59s 592us/step - loss: 0.0016 - acc: 0.9996\n"
     ]
    },
    {
     "data": {
      "text/plain": [
       "<keras.callbacks.History at 0x7f43241c5da0>"
      ]
     },
     "execution_count": 14,
     "metadata": {},
     "output_type": "execute_result"
    }
   ],
   "source": [
    "train.fit([X1, X2], y, epochs=5)"
   ]
  },
  {
   "cell_type": "code",
   "execution_count": 15,
   "metadata": {},
   "outputs": [
    {
     "name": "stderr",
     "output_type": "stream",
     "text": [
      "/home/seung/.venv/py3Keras/lib/python3.5/site-packages/keras/engine/topology.py:2344: UserWarning: Layer lstm_2 was passed non-serializable keyword arguments: {'initial_state': [<tf.Tensor 'lstm_1/while/Exit_2:0' shape=(?, 128) dtype=float32>, <tf.Tensor 'lstm_1/while/Exit_3:0' shape=(?, 128) dtype=float32>]}. They will not be included in the serialized model (and thus will be missing at deserialization time).\n",
      "  str(node.arguments) + '. They will not be included '\n"
     ]
    }
   ],
   "source": [
    "train.save('s2s_model.h5') #model.save()"
   ]
  },
  {
   "cell_type": "code",
   "execution_count": 16,
   "metadata": {},
   "outputs": [
    {
     "name": "stdout",
     "output_type": "stream",
     "text": [
      "X\t\ty\t\ttarget(pred)\n",
      "[36, 13, 23, 4, 50, 6]\t\t[23, 13, 36]\t\t[23, 13, 36]\n",
      "[45, 15, 37, 3, 36, 36]\t\t[37, 15, 45]\t\t[37, 15, 45]\n",
      "[32, 10, 27, 19, 46, 37]\t\t[27, 10, 32]\t\t[27, 10, 32]\n",
      "[41, 34, 23, 6, 24, 15]\t\t[23, 34, 41]\t\t[23, 34, 41]\n",
      "[29, 44, 17, 24, 15, 3]\t\t[17, 44, 29]\t\t[17, 44, 29]\n",
      "[32, 42, 7, 9, 36, 10]\t\t[7, 42, 32]\t\t[7, 42, 32]\n",
      "[22, 29, 3, 29, 24, 20]\t\t[3, 29, 22]\t\t[3, 29, 22]\n",
      "[3, 21, 7, 18, 16, 12]\t\t[7, 21, 3]\t\t[7, 21, 3]\n",
      "[16, 39, 32, 27, 24, 43]\t\t[32, 39, 16]\t\t[32, 39, 16]\n",
      "[6, 31, 47, 32, 1, 40]\t\t[47, 31, 6]\t\t[47, 31, 6]\n",
      "Accuracy: 100.00%\n"
     ]
    }
   ],
   "source": [
    "# evaluate LSTM\n",
    "total, correct = 10, 0\n",
    "print('X\\t\\ty\\t\\ttarget(pred)')\n",
    "for _ in range(total):\n",
    "    X1, X2, y = get_dataset(n_steps_in, n_steps_out, n_features, 1)\n",
    "    #print(X1.shape,X2.shape,y.shape) # (1, 6, 51) (1, 3, 51) (1, 3, 51)\n",
    "    target = predict_sequence(infenc, infdec, X1, n_steps_out, n_features)\n",
    "    print('{}\\t\\t{}\\t\\t{}'.format(one_hot_decode(X1[0]), one_hot_decode(y[0]), one_hot_decode(target)))\n",
    "    if array_equal(one_hot_decode(y[0]), one_hot_decode(target)):\n",
    "        correct += 1\n",
    "    else:\n",
    "        print(' wrong\\t{}\\t{}'.format(one_hot_decode(y[0]), one_hot_decode(target)))\n",
    "print('Accuracy: %.2f%%' % (float(correct) / float(total) * 100.0))   "
   ]
  },
  {
   "cell_type": "code",
   "execution_count": 17,
   "metadata": {},
   "outputs": [
    {
     "name": "stdout",
     "output_type": "stream",
     "text": [
      "X=[40, 18, 14, 3, 32, 50] y=[14, 18, 40], yhat=[14, 18, 40]\n",
      "X=[37, 43, 44, 6, 24, 7] y=[44, 43, 37], yhat=[44, 43, 37]\n",
      "X=[33, 42, 17, 19, 21, 26] y=[17, 42, 33], yhat=[17, 42, 33]\n",
      "X=[5, 18, 13, 13, 23, 45] y=[13, 18, 5], yhat=[13, 18, 5]\n",
      "X=[31, 14, 37, 12, 35, 35] y=[37, 14, 31], yhat=[37, 14, 31]\n",
      "X=[2, 28, 9, 49, 9, 3] y=[9, 28, 2], yhat=[9, 28, 2]\n",
      "X=[46, 7, 26, 25, 42, 11] y=[26, 7, 46], yhat=[26, 7, 46]\n",
      "X=[46, 46, 23, 18, 3, 30] y=[23, 46, 46], yhat=[23, 46, 46]\n",
      "X=[31, 44, 45, 6, 48, 21] y=[45, 44, 31], yhat=[45, 44, 31]\n",
      "X=[48, 33, 21, 24, 22, 15] y=[21, 33, 48], yhat=[21, 33, 48]\n"
     ]
    }
   ],
   "source": [
    "# spot check some examples\n",
    "for _ in range(10):\n",
    "    X1, X2, y = get_dataset(n_steps_in, n_steps_out, n_features, 1)\n",
    "    target = predict_sequence(infenc, infdec, X1, n_steps_out, n_features)\n",
    "    print('X=%s y=%s, yhat=%s' % (one_hot_decode(X1[0]), one_hot_decode(y[0]), one_hot_decode(target)))"
   ]
  },
  {
   "cell_type": "markdown",
   "metadata": {},
   "source": [
    "### Reference"
   ]
  },
  {
   "cell_type": "markdown",
   "metadata": {},
   "source": [
    "* How to Develop an Encoder-Decoder Model for Sequence-to-Sequence Prediction in Keras\n",
    "by Jason Brownlee, November 2, 2017\n",
    "https://machinelearningmastery.com/develop-encoder-decoder-model-sequence-sequence-prediction-keras/\n",
    "http://archive.is/iG6rR"
   ]
  }
 ],
 "metadata": {
  "kernelspec": {
   "display_name": "Py35_keras",
   "language": "python",
   "name": "py35_keras"
  },
  "language_info": {
   "codemirror_mode": {
    "name": "ipython",
    "version": 3
   },
   "file_extension": ".py",
   "mimetype": "text/x-python",
   "name": "python",
   "nbconvert_exporter": "python",
   "pygments_lexer": "ipython3",
   "version": "3.5.2"
  }
 },
 "nbformat": 4,
 "nbformat_minor": 2
}
