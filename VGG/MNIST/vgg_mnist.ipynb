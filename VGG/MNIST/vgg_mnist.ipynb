{
 "cells": [
  {
   "cell_type": "markdown",
   "metadata": {},
   "source": [
    "# Deep Convolutional MNIST Classifier using Tensorflow"
   ]
  },
  {
   "cell_type": "markdown",
   "metadata": {},
   "source": [
    "This is a convolutional nerual network with 11 conv-layer and 3 fc-layer base on VGG19, I removed 8 conv-layer and 3 pooling layer to make sure all datas fits in my GPU memory. The project is based on github project tensorflow-vgg19 [https://github.com/machrisaa/tensorflow-vgg]\n",
    "\n",
    "based on https://github.com/EvanWY/Tensorflow-VGG-MNIST-Classifier"
   ]
  },
  {
   "cell_type": "markdown",
   "metadata": {},
   "source": [
    "### Initialization\n",
    "MNIST dataset is included in Tensorflow as an example dataset. I choise MNIST because it's relatively smaller and spending less time to train. It's good for practicing CNN and Tensorflow"
   ]
  },
  {
   "cell_type": "code",
   "execution_count": 1,
   "metadata": {},
   "outputs": [
    {
     "name": "stderr",
     "output_type": "stream",
     "text": [
      "/home/seung/kerasTF_python3/lib/python3.5/site-packages/h5py/__init__.py:36: FutureWarning: Conversion of the second argument of issubdtype from `float` to `np.floating` is deprecated. In future, it will be treated as `np.float64 == np.dtype(float).type`.\n",
      "  from ._conv import register_converters as _register_converters\n"
     ]
    },
    {
     "name": "stdout",
     "output_type": "stream",
     "text": [
      "Extracting MNIST_data/train-images-idx3-ubyte.gz\n",
      "Extracting MNIST_data/train-labels-idx1-ubyte.gz\n",
      "Extracting MNIST_data/t10k-images-idx3-ubyte.gz\n",
      "Extracting MNIST_data/t10k-labels-idx1-ubyte.gz\n"
     ]
    }
   ],
   "source": [
    "%load_ext autoreload\n",
    "%autoreload 2\n",
    "%matplotlib inline\n",
    "\n",
    "import matplotlib.pyplot as plt\n",
    "import matplotlib.image as mpimg\n",
    "import tensorflow as tf\n",
    "import numpy as np\n",
    "import utils\n",
    "import vgg19_trainable2 as vgg19\n",
    "from tensorflow.examples.tutorials.mnist import input_data\n",
    "import time\n",
    "mnist = input_data.read_data_sets('MNIST_data', one_hot=True)"
   ]
  },
  {
   "cell_type": "code",
   "execution_count": 2,
   "metadata": {},
   "outputs": [
    {
     "name": "stdout",
     "output_type": "stream",
     "text": [
      "4417786\n"
     ]
    }
   ],
   "source": [
    "sess = tf.Session()\n",
    "batch_size = 300\n",
    "\n",
    "images = tf.placeholder(tf.float32, [None, 28, 28, 1])\n",
    "true_out = tf.placeholder(tf.float32, [None, 10])\n",
    "train_mode = tf.placeholder(tf.bool)\n",
    "\n",
    "vgg = vgg19.Vgg19()\n",
    "vgg.build(images, train_mode)\n",
    "\n",
    "print(vgg.get_var_count())"
   ]
  },
  {
   "cell_type": "markdown",
   "metadata": {},
   "source": [
    "### MNIST dataset\n",
    "The MNIST dataset is a hand writen digit classification dataset."
   ]
  },
  {
   "cell_type": "code",
   "execution_count": 3,
   "metadata": {},
   "outputs": [
    {
     "name": "stdout",
     "output_type": "stream",
     "text": [
      "(300, 28, 28, 1) (300, 10)\n",
      "5\n",
      "1\n",
      "2\n",
      "3\n"
     ]
    },
    {
     "data": {
      "text/plain": [
       "<matplotlib.image.AxesImage at 0x7ff409641ef0>"
      ]
     },
     "execution_count": 3,
     "metadata": {},
     "output_type": "execute_result"
    },
    {
     "data": {
      "image/png": "[encoded data removed]",
      "text/plain": [
       "<matplotlib.figure.Figure at 0x7ff4097e0710>"
      ]
     },
     "metadata": {},
     "output_type": "display_data"
    },
    {
     "data": {
      "image/png": "[encoded data removed]",
      "text/plain": [
       "<matplotlib.figure.Figure at 0x7ff409767080>"
      ]
     },
     "metadata": {},
     "output_type": "display_data"
    },
    {
     "data": {
      "image/png": "[encoded data removed]",
      "text/plain": [
       "<matplotlib.figure.Figure at 0x7ff40975d438>"
      ]
     },
     "metadata": {},
     "output_type": "display_data"
    },
    {
     "data": {
      "image/png": "[encoded data removed]",
      "text/plain": [
       "<matplotlib.figure.Figure at 0x7ff4096b0198>"
      ]
     },
     "metadata": {},
     "output_type": "display_data"
    }
   ],
   "source": [
    "# test classification\n",
    "sess.run(tf.global_variables_initializer())\n",
    "\n",
    "batch = mnist.train.next_batch(batch_size)\n",
    "batch_img = batch[0].reshape((-1,28,28,1))\n",
    "batch_lbl = batch[1]\n",
    "\n",
    "print(batch_img.shape, batch_lbl.shape)\n",
    "\n",
    "print (np.argmax(batch_lbl[0]))\n",
    "print (np.argmax(batch_lbl[1]))\n",
    "print (np.argmax(batch_lbl[2]))\n",
    "print (np.argmax(batch_lbl[3]))\n",
    "\n",
    "\n",
    "plt.figure()\n",
    "plt.imshow(batch_img[0,:,:,0])\n",
    "plt.figure()\n",
    "plt.imshow(batch_img[1,:,:,0])\n",
    "plt.figure()\n",
    "plt.imshow(batch_img[2,:,:,0])\n",
    "plt.figure()\n",
    "plt.imshow(batch_img[3,:,:,0])"
   ]
  },
  {
   "cell_type": "markdown",
   "metadata": {},
   "source": [
    "### Define loss function and training process"
   ]
  },
  {
   "cell_type": "code",
   "execution_count": 4,
   "metadata": {
    "collapsed": true
   },
   "outputs": [],
   "source": [
    "cost = tf.reduce_sum((vgg.prob - true_out) ** 2)\n",
    "train = tf.train.AdamOptimizer(0.001).minimize(cost)\n",
    "\n",
    "correct_prediction = tf.equal(tf.argmax(vgg.prob, 1), tf.argmax(true_out, 1))\n",
    "accuracy = tf.reduce_mean(tf.cast(correct_prediction, tf.float32))"
   ]
  },
  {
   "cell_type": "markdown",
   "metadata": {},
   "source": [
    "### Accuracy Before Training\n",
    "After randomization, all weights of the network is set to random value, so the prediction should be totally random. Because we have 10 digits in this dataset, the accuracy of prediction of random guess should be around 10%. In this case, the initialization has 14.4% of accuracy."
   ]
  },
  {
   "cell_type": "code",
   "execution_count": 5,
   "metadata": {},
   "outputs": [
    {
     "name": "stdout",
     "output_type": "stream",
     "text": [
      "accuracy:  0.09\n"
     ]
    }
   ],
   "source": [
    "sess.run(tf.global_variables_initializer())\n",
    "\n",
    "vbatch = mnist.validation.next_batch(500)\n",
    "vbatch_img = vbatch[0].reshape((-1,28,28,1))\n",
    "vbatch_lbl = vbatch[1]\n",
    "\n",
    "print ('accuracy: ', sess.run(accuracy, feed_dict={images: vbatch_img, true_out: vbatch_lbl, train_mode: False}))"
   ]
  },
  {
   "cell_type": "code",
   "execution_count": 6,
   "metadata": {},
   "outputs": [
    {
     "name": "stdout",
     "output_type": "stream",
     "text": [
      "Tensor(\"conv1_1/Relu:0\", shape=(?, 28, 28, 16), dtype=float32)\n",
      "Tensor(\"conv1_2/Relu:0\", shape=(?, 28, 28, 16), dtype=float32)\n",
      "Tensor(\"pool1:0\", shape=(?, 14, 14, 16), dtype=float32)\n",
      "\n",
      "Tensor(\"conv2_1/Relu:0\", shape=(?, 14, 14, 32), dtype=float32)\n",
      "Tensor(\"conv2_2/Relu:0\", shape=(?, 14, 14, 32), dtype=float32)\n",
      "Tensor(\"pool2:0\", shape=(?, 7, 7, 32), dtype=float32)\n",
      "\n",
      "Tensor(\"conv3_1/Relu:0\", shape=(?, 7, 7, 64), dtype=float32)\n",
      "Tensor(\"conv3_2/Relu:0\", shape=(?, 7, 7, 64), dtype=float32)\n",
      "Tensor(\"conv3_3/Relu:0\", shape=(?, 7, 7, 64), dtype=float32)\n",
      "Tensor(\"conv3_4/Relu:0\", shape=(?, 7, 7, 64), dtype=float32)\n"
     ]
    }
   ],
   "source": [
    "print(vgg.conv1_1)\n",
    "print(vgg.conv1_2)\n",
    "print(vgg.pool1)\n",
    "print()\n",
    "print(vgg.conv2_1)\n",
    "print(vgg.conv2_2)\n",
    "print(vgg.pool2)\n",
    "print()\n",
    "print(vgg.conv3_1)\n",
    "print(vgg.conv3_2)\n",
    "print(vgg.conv3_3)\n",
    "print(vgg.conv3_4)\n",
    "#print(vgg.pool3)"
   ]
  },
  {
   "cell_type": "markdown",
   "metadata": {},
   "source": [
    "### Training\n",
    "Within 100 iteration, the accuracy increase to 94.4% on validation data set."
   ]
  },
  {
   "cell_type": "code",
   "execution_count": 7,
   "metadata": {},
   "outputs": [
    {
     "name": "stdout",
     "output_type": "stream",
     "text": [
      "iteration:  0\n",
      "accuracy (validation):  0.102\n",
      "iteration:  50\n",
      "accuracy (validation):  0.894\n",
      "iteration:  100\n",
      "accuracy (validation):  0.97\n",
      "iteration:  150\n",
      "accuracy (validation):  0.97\n",
      "iteration:  200\n",
      "accuracy (validation):  0.972\n",
      "iteration:  250\n",
      "accuracy (validation):  0.968\n",
      "iteration:  300\n",
      "accuracy (validation):  0.986\n",
      "iteration:  350\n",
      "accuracy (validation):  0.984\n",
      "iteration:  400\n",
      "accuracy (validation):  0.958\n",
      "iteration:  450\n",
      "accuracy (validation):  0.986\n",
      "iteration:  500\n",
      "accuracy (validation):  0.98\n",
      "iteration:  550\n",
      "accuracy (validation):  0.986\n",
      "iteration:  600\n",
      "accuracy (validation):  0.98\n",
      "iteration:  650\n",
      "accuracy (validation):  0.986\n",
      "iteration:  700\n",
      "accuracy (validation):  0.978\n",
      "iteration:  750\n",
      "accuracy (validation):  0.986\n",
      "iteration:  800\n",
      "accuracy (validation):  0.984\n",
      "iteration:  850\n",
      "accuracy (validation):  0.984\n",
      "iteration:  900\n",
      "accuracy (validation):  0.988\n",
      "iteration:  950\n",
      "accuracy (validation):  0.99\n"
     ]
    }
   ],
   "source": [
    "velapsed=[]\n",
    "\n",
    "for i in range(1000):\n",
    "    batch = mnist.train.next_batch(batch_size)\n",
    "    batch_img = batch[0].reshape((-1,28,28,1))\n",
    "    batch_lbl = batch[1]\n",
    "    t = time.time()\n",
    "    sess.run(train, feed_dict={images: batch_img, true_out: batch_lbl, train_mode: True})\n",
    "    elapsed = time.time() - t\n",
    "    velapsed.append(elapsed)\n",
    "    if i % 50 == 0:\n",
    "        print( 'iteration: ', i)\n",
    "        vbatch = mnist.validation.next_batch(500)\n",
    "        vbatch_img = vbatch[0].reshape((-1,28,28,1))\n",
    "        vbatch_lbl = vbatch[1]\n",
    "        print ('accuracy (validation): ', sess.run(accuracy, feed_dict={images: vbatch_img, true_out: vbatch_lbl, train_mode: False}))"
   ]
  },
  {
   "cell_type": "code",
   "execution_count": 8,
   "metadata": {},
   "outputs": [
    {
     "name": "stdout",
     "output_type": "stream",
     "text": [
      "Mean elapsed time : 0.4535353796482086\n"
     ]
    }
   ],
   "source": [
    "tmean = sum(velapsed) / float(len(velapsed))\n",
    "print('Mean elapsed time : {}'.format(tmean))"
   ]
  },
  {
   "cell_type": "markdown",
   "metadata": {},
   "source": [
    "### Validation\n",
    "After 1000 iterations, the accuracy on validation dataset increase to 98.75%. "
   ]
  },
  {
   "cell_type": "code",
   "execution_count": 9,
   "metadata": {},
   "outputs": [
    {
     "name": "stdout",
     "output_type": "stream",
     "text": [
      "0.9845\n"
     ]
    }
   ],
   "source": [
    "vbatch = mnist.validation.next_batch(2000)\n",
    "vbatch_img = vbatch[0].reshape((-1,28,28,1))\n",
    "vbatch_lbl = vbatch[1]\n",
    "print(sess.run(accuracy, feed_dict={images: vbatch_img, true_out: vbatch_lbl, train_mode: False}))"
   ]
  },
  {
   "cell_type": "code",
   "execution_count": 10,
   "metadata": {},
   "outputs": [
    {
     "name": "stdout",
     "output_type": "stream",
     "text": [
      "0.9855\n"
     ]
    }
   ],
   "source": [
    "vbatch = mnist.train.next_batch(2000)\n",
    "vbatch_img = vbatch[0].reshape((-1,28,28,1))\n",
    "vbatch_lbl = vbatch[1]\n",
    "print(sess.run(accuracy, feed_dict={images: vbatch_img, true_out: vbatch_lbl, train_mode: False}))"
   ]
  }
 ],
 "metadata": {
  "kernelspec": {
   "display_name": "kerasTF_python3",
   "language": "python",
   "name": "kerastf_python3"
  },
  "language_info": {
   "codemirror_mode": {
    "name": "ipython",
    "version": 3
   },
   "file_extension": ".py",
   "mimetype": "text/x-python",
   "name": "python",
   "nbconvert_exporter": "python",
   "pygments_lexer": "ipython3",
   "version": "3.5.2+"
  }
 },
 "nbformat": 4,
 "nbformat_minor": 2
}
