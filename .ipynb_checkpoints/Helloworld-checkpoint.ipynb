{
 "cells": [
  {
   "cell_type": "code",
   "execution_count": 7,
   "metadata": {
    "collapsed": false
   },
   "outputs": [
    {
     "name": "stdout",
     "output_type": "stream",
     "text": [
      "3\n"
     ]
    }
   ],
   "source": [
    "# Setup\n",
    "# based on http://cs231n.github.io/ipython-tutorial/\n",
    "global x\n",
    "x = 1 + 2\n",
    "print x"
   ]
  },
  {
   "cell_type": "code",
   "execution_count": 5,
   "metadata": {
    "collapsed": false
   },
   "outputs": [
    {
     "name": "stdout",
     "output_type": "stream",
     "text": [
      "9\n"
     ]
    }
   ],
   "source": [
    "y = x*x\n",
    "print y"
   ]
  },
  {
   "cell_type": "code",
   "execution_count": 6,
   "metadata": {
    "collapsed": false,
    "scrolled": true
   },
   "outputs": [
    {
     "data": {
      "text/latex": [
       "$$F(k) = \\int_{-\\infty}^{\\infty} f(x) e^{2\\pi i k} dx$$"
      ],
      "text/plain": [
       "<IPython.core.display.Math object>"
      ]
     },
     "metadata": {},
     "output_type": "display_data"
    }
   ],
   "source": [
    "from IPython.display import display, Math, Latex\n",
    "display(Math(r'F(k) = \\int_{-\\infty}^{\\infty} f(x) e^{2\\pi i k} dx'))\n",
    "\n",
    "#from http://stackoverflow.com/a/13222501"
   ]
  },
  {
   "cell_type": "markdown",
   "metadata": {},
   "source": [
    "This is a markdown cell.\n",
    "http://stackoverflow.com/a/17811770\n",
    "\n",
    "\n",
    "$$c = \\sqrt{a^2 + b^2}$$\n",
    "http://stackoverflow.com/a/13222501"
   ]
  },
  {
   "cell_type": "code",
   "execution_count": 8,
   "metadata": {
    "collapsed": false
   },
   "outputs": [
    {
     "data": {
      "image/svg+xml": [
       "<svg height=\"650\" viewBox=\"0 0 7410 3900\" width=\"1235\" xmlns=\"http://www.w3.org/2000/svg\" xmlns:xlink=\"http://www.w3.org/1999/xlink\">\n",
       "<rect fill=\"#b22234\" height=\"3900\" width=\"7410\"/>\n",
       "<path d=\"M0,450H7410m0,600H0m0,600H7410m0,600H0m0,600H7410m0,600H0\" stroke=\"#fff\" stroke-width=\"300\"/>\n",
       "<rect fill=\"#3c3b6e\" height=\"2100\" width=\"2964\"/>\n",
       "<g fill=\"#fff\">\n",
       "<g id=\"s18\">\n",
       "<g id=\"s9\">\n",
       "<g id=\"s5\">\n",
       "<g id=\"s4\">\n",
       "<path d=\"M247,90 317.534230,307.082039 132.873218,172.917961H361.126782L176.465770,307.082039z\" id=\"s\"/>\n",
       "<use xlink:href=\"#s\" y=\"420\"/>\n",
       "<use xlink:href=\"#s\" y=\"840\"/>\n",
       "<use xlink:href=\"#s\" y=\"1260\"/>\n",
       "</g>\n",
       "<use xlink:href=\"#s\" y=\"1680\"/>\n",
       "</g>\n",
       "<use x=\"247\" xlink:href=\"#s4\" y=\"210\"/>\n",
       "</g>\n",
       "<use x=\"494\" xlink:href=\"#s9\"/>\n",
       "</g>\n",
       "<use x=\"988\" xlink:href=\"#s18\"/>\n",
       "<use x=\"1976\" xlink:href=\"#s9\"/>\n",
       "<use x=\"2470\" xlink:href=\"#s5\"/>\n",
       "</g>\n",
       "</svg>"
      ],
      "text/plain": [
       "<IPython.core.display.SVG object>"
      ]
     },
     "execution_count": 8,
     "metadata": {},
     "output_type": "execute_result"
    }
   ],
   "source": [
    "from IPython.display import SVG\n",
    "def show_svg():\n",
    "    return SVG(url='http://upload.wikimedia.org/wikipedia/en/a/a4/Flag_of_the_United_States.svg')\n",
    "\n",
    "show_svg()"
   ]
  },
  {
   "cell_type": "code",
   "execution_count": null,
   "metadata": {
    "collapsed": true
   },
   "outputs": [],
   "source": []
  }
 ],
 "metadata": {
  "kernelspec": {
   "display_name": "Python 2",
   "language": "python",
   "name": "python2"
  },
  "language_info": {
   "codemirror_mode": {
    "name": "ipython",
    "version": 2
   },
   "file_extension": ".py",
   "mimetype": "text/x-python",
   "name": "python",
   "nbconvert_exporter": "python",
   "pygments_lexer": "ipython2",
   "version": "2.7.12"
  }
 },
 "nbformat": 4,
 "nbformat_minor": 1
}
