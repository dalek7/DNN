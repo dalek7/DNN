{
 "cells": [
  {
   "cell_type": "code",
   "execution_count": 1,
   "metadata": {
    "collapsed": false
   },
   "outputs": [],
   "source": [
    "import numpy as np\n",
    "import tensorflow as tf\n",
    "sess = tf.Session()\n",
    "\n",
    "# Create Graph for Logistic Regression\n",
    "x = tf.placeholder(\"float\", [100, 784], name='x') \n",
    "y = tf.placeholder(\"float\", [100, 10], name='y')  # None is for infinite or unspecified length\n",
    "W = tf.Variable(tf.random_normal([784, 10]), name='W')\n",
    "b = tf.Variable(tf.zeros([10]), name='b')\n",
    "\n",
    "# Activation, Cost, and Optimizing functions\n",
    "activation = tf.nn.softmax(tf.matmul(x, W) + b) # Softmax\n",
    "\n",
    "# cost = tf.reduce_mean(-tf.reduce_sum(y*tf.log(activation), reduction_indices=1)) # Cross entropy\n",
    "# cost = tf.reduce_mean(-tf.reduce_sum(y*tf.log(activation) + (1-y)*tf.log(1-activation), reduction_indices=1)) # Cross entropy\n",
    "cost = tf.reduce_mean(tf.square(activation-y))\n",
    "\n",
    "# Optimize with TensorFlow\n",
    "# Initializing the variables\n",
    "init = tf.initialize_all_variables()\n",
    "sess.run(init)"
   ]
  },
  {
   "cell_type": "code",
   "execution_count": 2,
   "metadata": {
    "collapsed": true
   },
   "outputs": [],
   "source": [
    "writer = tf.train.SummaryWriter('/tmp/tf_logs/logreg',sess.graph)"
   ]
  }
 ],
 "metadata": {
  "kernelspec": {
   "display_name": "Python 2",
   "language": "python",
   "name": "python2"
  },
  "language_info": {
   "codemirror_mode": {
    "name": "ipython",
    "version": 2
   },
   "file_extension": ".py",
   "mimetype": "text/x-python",
   "name": "python",
   "nbconvert_exporter": "python",
   "pygments_lexer": "ipython2",
   "version": "2.7.11"
  }
 },
 "nbformat": 4,
 "nbformat_minor": 0
}
