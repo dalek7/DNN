{
 "cells": [
  {
   "cell_type": "markdown",
   "metadata": {},
   "source": [
    "This expression describes a 2-dimensional neuron (with inputs <strong>x</strong> and weights <strong>w</strong>) that uses the sigmoid activation function. \n",
    "$$f(w,x) = \\frac{1}{1+e^{-(w_0x_0 + w_1x_1 + w_2)}}$$\n",
    "\n",
    "The inputs are [x0,x1] and the (learnable) weights of the neuron are [w0,w1,w2].\n",
    "The neuron computes a dot product with the input and then its activation is softly squashed by the sigmoid function to be in range from 0 to 1.\n",
    "$$dot = w[0]*x[0] + w[1]*x[1] + w[2]$$\n",
    "\n"
   ]
  },
  {
   "cell_type": "code",
   "execution_count": 4,
   "metadata": {
    "collapsed": false
   },
   "outputs": [
    {
     "data": {
      "image/svg+xml": [
       "<svg height=\"306\" width=\"799\"><g transform=\"scale(0.8)\"><defs><marker id=\"arrowhead\" markerHeight=\"4\" markerWidth=\"6\" orient=\"auto\" refX=\"6\" refY=\"2\"><path d=\"M 0,0 V 4 L6,2 Z\"/></marker></defs><line stroke=\"black\" stroke-width=\"1\" x1=\"50\" x2=\"90\" y1=\"30\" y2=\"30\"/><text fill=\"green\" font-size=\"16\" x=\"55\" y=\"24\">2.00</text><text fill=\"red\" font-size=\"16\" x=\"55\" y=\"47\">-0.20</text><text fill=\"black\" font-size=\"16\" text-anchor=\"end\" x=\"45\" y=\"24\">w0</text><line stroke=\"black\" stroke-width=\"1\" x1=\"50\" x2=\"90\" y1=\"100\" y2=\"100\"/><text fill=\"green\" font-size=\"16\" x=\"55\" y=\"94\">-1.00</text><text fill=\"red\" font-size=\"16\" x=\"55\" y=\"117\">0.39</text><text fill=\"black\" font-size=\"16\" text-anchor=\"end\" x=\"45\" y=\"94\">x0</text><line stroke=\"black\" stroke-width=\"1\" x1=\"50\" x2=\"90\" y1=\"170\" y2=\"170\"/><text fill=\"green\" font-size=\"16\" x=\"55\" y=\"164\">-3.00</text><text fill=\"red\" font-size=\"16\" x=\"55\" y=\"187\">-0.39</text><text fill=\"black\" font-size=\"16\" text-anchor=\"end\" x=\"45\" y=\"164\">w1</text><line stroke=\"black\" stroke-width=\"1\" x1=\"50\" x2=\"90\" y1=\"240\" y2=\"240\"/><text fill=\"green\" font-size=\"16\" x=\"55\" y=\"234\">-2.00</text><text fill=\"red\" font-size=\"16\" x=\"55\" y=\"257\">-0.59</text><text fill=\"black\" font-size=\"16\" text-anchor=\"end\" x=\"45\" y=\"234\">x1</text><line stroke=\"black\" stroke-width=\"1\" x1=\"50\" x2=\"90\" y1=\"310\" y2=\"310\"/><text fill=\"green\" font-size=\"16\" x=\"55\" y=\"304\">-3.00</text><text fill=\"red\" font-size=\"16\" x=\"55\" y=\"327\">0.20</text><text fill=\"black\" font-size=\"16\" text-anchor=\"end\" x=\"45\" y=\"304\">w2</text><line stroke=\"black\" stroke-width=\"1\" x1=\"170\" x2=\"210\" y1=\"65\" y2=\"65\"/><text fill=\"green\" font-size=\"16\" x=\"175\" y=\"59\">-2.00</text><text fill=\"red\" font-size=\"16\" x=\"175\" y=\"82\">0.20</text><circle cx=\"130\" cy=\"65\" fill=\"white\" r=\"20\" stroke=\"black\" stroke-width=\"1\"/><text fill=\"black\" font-size=\"20\" text-anchor=\"middle\" x=\"130\" y=\"75\">*</text><line marker-end=\"url(#arrowhead)\" stroke=\"black\" stroke-width=\"1\" x1=\"90\" x2=\"110\" y1=\"30\" y2=\"65\"/><line marker-end=\"url(#arrowhead)\" stroke=\"black\" stroke-width=\"1\" x1=\"90\" x2=\"110\" y1=\"100\" y2=\"65\"/><line marker-end=\"url(#arrowhead)\" stroke=\"black\" stroke-width=\"1\" x1=\"150\" x2=\"170\" y1=\"65\" y2=\"65\"/><line stroke=\"black\" stroke-width=\"1\" x1=\"170\" x2=\"210\" y1=\"205\" y2=\"205\"/><text fill=\"green\" font-size=\"16\" x=\"175\" y=\"199\">6.00</text><text fill=\"red\" font-size=\"16\" x=\"175\" y=\"222\">0.20</text><circle cx=\"130\" cy=\"205\" fill=\"white\" r=\"20\" stroke=\"black\" stroke-width=\"1\"/><text fill=\"black\" font-size=\"20\" text-anchor=\"middle\" x=\"130\" y=\"215\">*</text><line marker-end=\"url(#arrowhead)\" stroke=\"black\" stroke-width=\"1\" x1=\"90\" x2=\"110\" y1=\"170\" y2=\"205\"/><line marker-end=\"url(#arrowhead)\" stroke=\"black\" stroke-width=\"1\" x1=\"90\" x2=\"110\" y1=\"240\" y2=\"205\"/><line marker-end=\"url(#arrowhead)\" stroke=\"black\" stroke-width=\"1\" x1=\"150\" x2=\"170\" y1=\"205\" y2=\"205\"/><line stroke=\"black\" stroke-width=\"1\" x1=\"290\" x2=\"330\" y1=\"135\" y2=\"135\"/><text fill=\"green\" font-size=\"16\" x=\"295\" y=\"129\">4.00</text><text fill=\"red\" font-size=\"16\" x=\"295\" y=\"152\">0.20</text><circle cx=\"250\" cy=\"135\" fill=\"white\" r=\"20\" stroke=\"black\" stroke-width=\"1\"/><text fill=\"black\" font-size=\"20\" text-anchor=\"middle\" x=\"250\" y=\"140\">+</text><line marker-end=\"url(#arrowhead)\" stroke=\"black\" stroke-width=\"1\" x1=\"210\" x2=\"230\" y1=\"65\" y2=\"135\"/><line marker-end=\"url(#arrowhead)\" stroke=\"black\" stroke-width=\"1\" x1=\"210\" x2=\"230\" y1=\"205\" y2=\"135\"/><line marker-end=\"url(#arrowhead)\" stroke=\"black\" stroke-width=\"1\" x1=\"270\" x2=\"290\" y1=\"135\" y2=\"135\"/><line stroke=\"black\" stroke-width=\"1\" x1=\"410\" x2=\"450\" y1=\"222\" y2=\"222\"/><text fill=\"green\" font-size=\"16\" x=\"415\" y=\"216\">1.00</text><text fill=\"red\" font-size=\"16\" x=\"415\" y=\"239\">0.20</text><circle cx=\"370\" cy=\"222\" fill=\"white\" r=\"20\" stroke=\"black\" stroke-width=\"1\"/><text fill=\"black\" font-size=\"20\" text-anchor=\"middle\" x=\"370\" y=\"227\">+</text><line marker-end=\"url(#arrowhead)\" stroke=\"black\" stroke-width=\"1\" x1=\"330\" x2=\"350\" y1=\"135\" y2=\"222\"/><line marker-end=\"url(#arrowhead)\" stroke=\"black\" stroke-width=\"1\" x1=\"90\" x2=\"350\" y1=\"310\" y2=\"222\"/><line marker-end=\"url(#arrowhead)\" stroke=\"black\" stroke-width=\"1\" x1=\"390\" x2=\"410\" y1=\"222\" y2=\"222\"/><line stroke=\"black\" stroke-width=\"1\" x1=\"530\" x2=\"570\" y1=\"222\" y2=\"222\"/><text fill=\"green\" font-size=\"16\" x=\"535\" y=\"216\">-1.00</text><text fill=\"red\" font-size=\"16\" x=\"535\" y=\"239\">-0.20</text><circle cx=\"490\" cy=\"222\" fill=\"white\" r=\"20\" stroke=\"black\" stroke-width=\"1\"/><text fill=\"black\" font-size=\"20\" text-anchor=\"middle\" x=\"490\" y=\"227\">*-1</text><line marker-end=\"url(#arrowhead)\" stroke=\"black\" stroke-width=\"1\" x1=\"450\" x2=\"470\" y1=\"222\" y2=\"222\"/><line marker-end=\"url(#arrowhead)\" stroke=\"black\" stroke-width=\"1\" x1=\"510\" x2=\"530\" y1=\"222\" y2=\"222\"/><line stroke=\"black\" stroke-width=\"1\" x1=\"650\" x2=\"690\" y1=\"222\" y2=\"222\"/><text fill=\"green\" font-size=\"16\" x=\"655\" y=\"216\">0.37</text><text fill=\"red\" font-size=\"16\" x=\"655\" y=\"239\">-0.53</text><circle cx=\"610\" cy=\"222\" fill=\"white\" r=\"20\" stroke=\"black\" stroke-width=\"1\"/><text fill=\"black\" font-size=\"20\" text-anchor=\"middle\" x=\"610\" y=\"227\">exp</text><line marker-end=\"url(#arrowhead)\" stroke=\"black\" stroke-width=\"1\" x1=\"570\" x2=\"590\" y1=\"222\" y2=\"222\"/><line marker-end=\"url(#arrowhead)\" stroke=\"black\" stroke-width=\"1\" x1=\"630\" x2=\"650\" y1=\"222\" y2=\"222\"/><line stroke=\"black\" stroke-width=\"1\" x1=\"770\" x2=\"810\" y1=\"222\" y2=\"222\"/><text fill=\"green\" font-size=\"16\" x=\"775\" y=\"216\">1.37</text><text fill=\"red\" font-size=\"16\" x=\"775\" y=\"239\">-0.53</text><circle cx=\"730\" cy=\"222\" fill=\"white\" r=\"20\" stroke=\"black\" stroke-width=\"1\"/><text fill=\"black\" font-size=\"20\" text-anchor=\"middle\" x=\"730\" y=\"227\">+1</text><line marker-end=\"url(#arrowhead)\" stroke=\"black\" stroke-width=\"1\" x1=\"690\" x2=\"710\" y1=\"222\" y2=\"222\"/><line marker-end=\"url(#arrowhead)\" stroke=\"black\" stroke-width=\"1\" x1=\"750\" x2=\"770\" y1=\"222\" y2=\"222\"/><line stroke=\"black\" stroke-width=\"1\" x1=\"890\" x2=\"930\" y1=\"222\" y2=\"222\"/><text fill=\"green\" font-size=\"16\" x=\"895\" y=\"216\">0.73</text><text fill=\"red\" font-size=\"16\" x=\"895\" y=\"239\">1.00</text><circle cx=\"850\" cy=\"222\" fill=\"white\" r=\"20\" stroke=\"black\" stroke-width=\"1\"/><text fill=\"black\" font-size=\"20\" text-anchor=\"middle\" x=\"850\" y=\"227\">1/x</text><line marker-end=\"url(#arrowhead)\" stroke=\"black\" stroke-width=\"1\" x1=\"810\" x2=\"830\" y1=\"222\" y2=\"222\"/><line marker-end=\"url(#arrowhead)\" stroke=\"black\" stroke-width=\"1\" x1=\"870\" x2=\"890\" y1=\"222\" y2=\"222\"/></g></svg>"
      ],
      "text/plain": [
       "<IPython.core.display.SVG object>"
      ]
     },
     "execution_count": 4,
     "metadata": {},
     "output_type": "execute_result"
    }
   ],
   "source": [
    "from IPython.display import SVG\n",
    "def show_svg():\n",
    "    return SVG('<svg width=\"799\" height=\"306\"><g transform=\"scale(0.8)\"><defs><marker id=\"arrowhead\" refX=\"6\" refY=\"2\" markerWidth=\"6\" markerHeight=\"4\" orient=\"auto\"><path d=\"M 0,0 V 4 L6,2 Z\"></path></marker></defs><line x1=\"50\" y1=\"30\" x2=\"90\" y2=\"30\" stroke=\"black\" stroke-width=\"1\"></line><text x=\"55\" y=\"24\" font-size=\"16\" fill=\"green\">2.00</text><text x=\"55\" y=\"47\" font-size=\"16\" fill=\"red\">-0.20</text><text x=\"45\" y=\"24\" font-size=\"16\" text-anchor=\"end\" fill=\"black\">w0</text><line x1=\"50\" y1=\"100\" x2=\"90\" y2=\"100\" stroke=\"black\" stroke-width=\"1\"></line><text x=\"55\" y=\"94\" font-size=\"16\" fill=\"green\">-1.00</text><text x=\"55\" y=\"117\" font-size=\"16\" fill=\"red\">0.39</text><text x=\"45\" y=\"94\" font-size=\"16\" text-anchor=\"end\" fill=\"black\">x0</text><line x1=\"50\" y1=\"170\" x2=\"90\" y2=\"170\" stroke=\"black\" stroke-width=\"1\"></line><text x=\"55\" y=\"164\" font-size=\"16\" fill=\"green\">-3.00</text><text x=\"55\" y=\"187\" font-size=\"16\" fill=\"red\">-0.39</text><text x=\"45\" y=\"164\" font-size=\"16\" text-anchor=\"end\" fill=\"black\">w1</text><line x1=\"50\" y1=\"240\" x2=\"90\" y2=\"240\" stroke=\"black\" stroke-width=\"1\"></line><text x=\"55\" y=\"234\" font-size=\"16\" fill=\"green\">-2.00</text><text x=\"55\" y=\"257\" font-size=\"16\" fill=\"red\">-0.59</text><text x=\"45\" y=\"234\" font-size=\"16\" text-anchor=\"end\" fill=\"black\">x1</text><line x1=\"50\" y1=\"310\" x2=\"90\" y2=\"310\" stroke=\"black\" stroke-width=\"1\"></line><text x=\"55\" y=\"304\" font-size=\"16\" fill=\"green\">-3.00</text><text x=\"55\" y=\"327\" font-size=\"16\" fill=\"red\">0.20</text><text x=\"45\" y=\"304\" font-size=\"16\" text-anchor=\"end\" fill=\"black\">w2</text><line x1=\"170\" y1=\"65\" x2=\"210\" y2=\"65\" stroke=\"black\" stroke-width=\"1\"></line><text x=\"175\" y=\"59\" font-size=\"16\" fill=\"green\">-2.00</text><text x=\"175\" y=\"82\" font-size=\"16\" fill=\"red\">0.20</text><circle cx=\"130\" cy=\"65\" fill=\"white\" stroke=\"black\" stroke-width=\"1\" r=\"20\"></circle><text x=\"130\" y=\"75\" font-size=\"20\" fill=\"black\" text-anchor=\"middle\">*</text><line x1=\"90\" y1=\"30\" x2=\"110\" y2=\"65\" stroke=\"black\" stroke-width=\"1\" marker-end=\"url(#arrowhead)\"></line><line x1=\"90\" y1=\"100\" x2=\"110\" y2=\"65\" stroke=\"black\" stroke-width=\"1\" marker-end=\"url(#arrowhead)\"></line><line x1=\"150\" y1=\"65\" x2=\"170\" y2=\"65\" stroke=\"black\" stroke-width=\"1\" marker-end=\"url(#arrowhead)\"></line><line x1=\"170\" y1=\"205\" x2=\"210\" y2=\"205\" stroke=\"black\" stroke-width=\"1\"></line><text x=\"175\" y=\"199\" font-size=\"16\" fill=\"green\">6.00</text><text x=\"175\" y=\"222\" font-size=\"16\" fill=\"red\">0.20</text><circle cx=\"130\" cy=\"205\" fill=\"white\" stroke=\"black\" stroke-width=\"1\" r=\"20\"></circle><text x=\"130\" y=\"215\" font-size=\"20\" fill=\"black\" text-anchor=\"middle\">*</text><line x1=\"90\" y1=\"170\" x2=\"110\" y2=\"205\" stroke=\"black\" stroke-width=\"1\" marker-end=\"url(#arrowhead)\"></line><line x1=\"90\" y1=\"240\" x2=\"110\" y2=\"205\" stroke=\"black\" stroke-width=\"1\" marker-end=\"url(#arrowhead)\"></line><line x1=\"150\" y1=\"205\" x2=\"170\" y2=\"205\" stroke=\"black\" stroke-width=\"1\" marker-end=\"url(#arrowhead)\"></line><line x1=\"290\" y1=\"135\" x2=\"330\" y2=\"135\" stroke=\"black\" stroke-width=\"1\"></line><text x=\"295\" y=\"129\" font-size=\"16\" fill=\"green\">4.00</text><text x=\"295\" y=\"152\" font-size=\"16\" fill=\"red\">0.20</text><circle cx=\"250\" cy=\"135\" fill=\"white\" stroke=\"black\" stroke-width=\"1\" r=\"20\"></circle><text x=\"250\" y=\"140\" font-size=\"20\" fill=\"black\" text-anchor=\"middle\">+</text><line x1=\"210\" y1=\"65\" x2=\"230\" y2=\"135\" stroke=\"black\" stroke-width=\"1\" marker-end=\"url(#arrowhead)\"></line><line x1=\"210\" y1=\"205\" x2=\"230\" y2=\"135\" stroke=\"black\" stroke-width=\"1\" marker-end=\"url(#arrowhead)\"></line><line x1=\"270\" y1=\"135\" x2=\"290\" y2=\"135\" stroke=\"black\" stroke-width=\"1\" marker-end=\"url(#arrowhead)\"></line><line x1=\"410\" y1=\"222\" x2=\"450\" y2=\"222\" stroke=\"black\" stroke-width=\"1\"></line><text x=\"415\" y=\"216\" font-size=\"16\" fill=\"green\">1.00</text><text x=\"415\" y=\"239\" font-size=\"16\" fill=\"red\">0.20</text><circle cx=\"370\" cy=\"222\" fill=\"white\" stroke=\"black\" stroke-width=\"1\" r=\"20\"></circle><text x=\"370\" y=\"227\" font-size=\"20\" fill=\"black\" text-anchor=\"middle\">+</text><line x1=\"330\" y1=\"135\" x2=\"350\" y2=\"222\" stroke=\"black\" stroke-width=\"1\" marker-end=\"url(#arrowhead)\"></line><line x1=\"90\" y1=\"310\" x2=\"350\" y2=\"222\" stroke=\"black\" stroke-width=\"1\" marker-end=\"url(#arrowhead)\"></line><line x1=\"390\" y1=\"222\" x2=\"410\" y2=\"222\" stroke=\"black\" stroke-width=\"1\" marker-end=\"url(#arrowhead)\"></line><line x1=\"530\" y1=\"222\" x2=\"570\" y2=\"222\" stroke=\"black\" stroke-width=\"1\"></line><text x=\"535\" y=\"216\" font-size=\"16\" fill=\"green\">-1.00</text><text x=\"535\" y=\"239\" font-size=\"16\" fill=\"red\">-0.20</text><circle cx=\"490\" cy=\"222\" fill=\"white\" stroke=\"black\" stroke-width=\"1\" r=\"20\"></circle><text x=\"490\" y=\"227\" font-size=\"20\" fill=\"black\" text-anchor=\"middle\">*-1</text><line x1=\"450\" y1=\"222\" x2=\"470\" y2=\"222\" stroke=\"black\" stroke-width=\"1\" marker-end=\"url(#arrowhead)\"></line><line x1=\"510\" y1=\"222\" x2=\"530\" y2=\"222\" stroke=\"black\" stroke-width=\"1\" marker-end=\"url(#arrowhead)\"></line><line x1=\"650\" y1=\"222\" x2=\"690\" y2=\"222\" stroke=\"black\" stroke-width=\"1\"></line><text x=\"655\" y=\"216\" font-size=\"16\" fill=\"green\">0.37</text><text x=\"655\" y=\"239\" font-size=\"16\" fill=\"red\">-0.53</text><circle cx=\"610\" cy=\"222\" fill=\"white\" stroke=\"black\" stroke-width=\"1\" r=\"20\"></circle><text x=\"610\" y=\"227\" font-size=\"20\" fill=\"black\" text-anchor=\"middle\">exp</text><line x1=\"570\" y1=\"222\" x2=\"590\" y2=\"222\" stroke=\"black\" stroke-width=\"1\" marker-end=\"url(#arrowhead)\"></line><line x1=\"630\" y1=\"222\" x2=\"650\" y2=\"222\" stroke=\"black\" stroke-width=\"1\" marker-end=\"url(#arrowhead)\"></line><line x1=\"770\" y1=\"222\" x2=\"810\" y2=\"222\" stroke=\"black\" stroke-width=\"1\"></line><text x=\"775\" y=\"216\" font-size=\"16\" fill=\"green\">1.37</text><text x=\"775\" y=\"239\" font-size=\"16\" fill=\"red\">-0.53</text><circle cx=\"730\" cy=\"222\" fill=\"white\" stroke=\"black\" stroke-width=\"1\" r=\"20\"></circle><text x=\"730\" y=\"227\" font-size=\"20\" fill=\"black\" text-anchor=\"middle\">+1</text><line x1=\"690\" y1=\"222\" x2=\"710\" y2=\"222\" stroke=\"black\" stroke-width=\"1\" marker-end=\"url(#arrowhead)\"></line><line x1=\"750\" y1=\"222\" x2=\"770\" y2=\"222\" stroke=\"black\" stroke-width=\"1\" marker-end=\"url(#arrowhead)\"></line><line x1=\"890\" y1=\"222\" x2=\"930\" y2=\"222\" stroke=\"black\" stroke-width=\"1\"></line><text x=\"895\" y=\"216\" font-size=\"16\" fill=\"green\">0.73</text><text x=\"895\" y=\"239\" font-size=\"16\" fill=\"red\">1.00</text><circle cx=\"850\" cy=\"222\" fill=\"white\" stroke=\"black\" stroke-width=\"1\" r=\"20\"></circle><text x=\"850\" y=\"227\" font-size=\"20\" fill=\"black\" text-anchor=\"middle\">1/x</text><line x1=\"810\" y1=\"222\" x2=\"830\" y2=\"222\" stroke=\"black\" stroke-width=\"1\" marker-end=\"url(#arrowhead)\"></line><line x1=\"870\" y1=\"222\" x2=\"890\" y2=\"222\" stroke=\"black\" stroke-width=\"1\" marker-end=\"url(#arrowhead)\"></line></g></svg>')\n",
    "show_svg()"
   ]
  },
  {
   "cell_type": "markdown",
   "metadata": {},
   "source": [
    "The sigmoid expression receives the input 1.0 and computes the output 0.73 during the forward pass.\n",
    "$$\\sigma(x) = \\frac{1}{1+e^{-x}} \\\\\\\\\n",
    "\\rightarrow \\hspace{0.3in} \\frac{d\\sigma(x)}{dx} = \\frac{e^{-x}}{(1+e^{-x})^2} = \\left( \\frac{1 + e^{-x} - 1}{1 + e^{-x}} \\right) \\left( \\frac{1}{1+e^{-x}} \\right) \n",
    "= \\left( 1 - \\sigma(x) \\right) \\sigma(x)$$\n",
    "The local gradient would simply be (1 - 0.73) * 0.73 ~= 0.2"
   ]
  },
  {
   "cell_type": "code",
   "execution_count": 10,
   "metadata": {
    "collapsed": false
   },
   "outputs": [
    {
     "name": "stdout",
     "output_type": "stream",
     "text": [
      "ddot =  0.196611933241\n",
      "\n",
      "backprop into x\n",
      "dx =  [0.3932238664829637, -0.5898357997244456]\n",
      "\n",
      "backprop into w\n",
      "dw =  [-0.19661193324148185, -0.3932238664829637, 0.19661193324148185]\n"
     ]
    }
   ],
   "source": [
    "import math\n",
    "w = [2,-3,-3] # assume some random weights and data\n",
    "x = [-1, -2]\n",
    "\n",
    "# forward pass\n",
    "dot = w[0]*x[0] + w[1]*x[1] + w[2]\n",
    "f = 1.0 / (1 + math.exp(-dot)) # sigmoid function\n",
    "\n",
    "# backward pass through the neuron (backpropagation)\n",
    "ddot = (1 - f) * f # gradient on dot variable, using the sigmoid gradient derivation\n",
    "dx = [w[0] * ddot, w[1] * ddot] # backprop into x\n",
    "dw = [x[0] * ddot, x[1] * ddot, 1.0 * ddot] # backprop into w\n",
    "# we're done! we have the gradients on the inputs to the circuit\n",
    "\n",
    "print 'ddot = ', ddot\n",
    "print\n",
    "print 'backprop into x'\n",
    "print 'dx = ', dx\n",
    "print\n",
    "print 'backprop into w'\n",
    "print 'dw = ', dw"
   ]
  },
  {
   "cell_type": "markdown",
   "metadata": {},
   "source": [
    "#This page is based on http://cs231n.github.io/optimization-2/\n",
    "#Edited by Seung-Chan Kim"
   ]
  }
 ],
 "metadata": {
  "kernelspec": {
   "display_name": "Python 2",
   "language": "python",
   "name": "python2"
  },
  "language_info": {
   "codemirror_mode": {
    "name": "ipython",
    "version": 2
   },
   "file_extension": ".py",
   "mimetype": "text/x-python",
   "name": "python",
   "nbconvert_exporter": "python",
   "pygments_lexer": "ipython2",
   "version": "2.7.12"
  }
 },
 "nbformat": 4,
 "nbformat_minor": 2
}
