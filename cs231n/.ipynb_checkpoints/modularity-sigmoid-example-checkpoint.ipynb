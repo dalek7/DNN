{
 "cells": [
  {
   "cell_type": "markdown",
   "metadata": {},
   "source": [
    "This expression describes a 2-dimensional neuron (with inputs <strong>x</strong> and weights <strong>w</strong>) that uses the sigmoid activation function. \n",
    "$$f(w,x) = \\frac{1}{1+e^{-(w_0x_0 + w_1x_1 + w_2)}}$$\n",
    "\n",
    "The inputs are [x0,x1] and the (learnable) weights of the neuron are [w0,w1,w2].\n",
    "The neuron computes a dot product with the input and then its activation is softly squashed by the sigmoid function to be in range from 0 to 1.\n",
    "$$dot = w[0]*x[0] + w[1]*x[1] + w[2]$$\n",
    "\n"
   ]
  },
  {
   "cell_type": "code",
   "execution_count": 2,
   "metadata": {
    "collapsed": true
   },
   "outputs": [],
   "source": [
    "from IPython.display import SVG\n",
    "def show_svg():\n",
    "    return SVG('<svg width=\"799\" height=\"306\"><g transform=\"scale(0.8)\"><defs><marker id=\"arrowhead\" refX=\"6\" refY=\"2\" markerWidth=\"6\" markerHeight=\"4\" orient=\"auto\"><path d=\"M 0,0 V 4 L6,2 Z\"></path></marker></defs><line x1=\"50\" y1=\"30\" x2=\"90\" y2=\"30\" stroke=\"black\" stroke-width=\"1\"></line><text x=\"55\" y=\"24\" font-size=\"16\" fill=\"green\">2.00</text><text x=\"55\" y=\"47\" font-size=\"16\" fill=\"red\">-0.20</text><text x=\"45\" y=\"24\" font-size=\"16\" text-anchor=\"end\" fill=\"black\">w0</text><line x1=\"50\" y1=\"100\" x2=\"90\" y2=\"100\" stroke=\"black\" stroke-width=\"1\"></line><text x=\"55\" y=\"94\" font-size=\"16\" fill=\"green\">-1.00</text><text x=\"55\" y=\"117\" font-size=\"16\" fill=\"red\">0.39</text><text x=\"45\" y=\"94\" font-size=\"16\" text-anchor=\"end\" fill=\"black\">x0</text><line x1=\"50\" y1=\"170\" x2=\"90\" y2=\"170\" stroke=\"black\" stroke-width=\"1\"></line><text x=\"55\" y=\"164\" font-size=\"16\" fill=\"green\">-3.00</text><text x=\"55\" y=\"187\" font-size=\"16\" fill=\"red\">-0.39</text><text x=\"45\" y=\"164\" font-size=\"16\" text-anchor=\"end\" fill=\"black\">w1</text><line x1=\"50\" y1=\"240\" x2=\"90\" y2=\"240\" stroke=\"black\" stroke-width=\"1\"></line><text x=\"55\" y=\"234\" font-size=\"16\" fill=\"green\">-2.00</text><text x=\"55\" y=\"257\" font-size=\"16\" fill=\"red\">-0.59</text><text x=\"45\" y=\"234\" font-size=\"16\" text-anchor=\"end\" fill=\"black\">x1</text><line x1=\"50\" y1=\"310\" x2=\"90\" y2=\"310\" stroke=\"black\" stroke-width=\"1\"></line><text x=\"55\" y=\"304\" font-size=\"16\" fill=\"green\">-3.00</text><text x=\"55\" y=\"327\" font-size=\"16\" fill=\"red\">0.20</text><text x=\"45\" y=\"304\" font-size=\"16\" text-anchor=\"end\" fill=\"black\">w2</text><line x1=\"170\" y1=\"65\" x2=\"210\" y2=\"65\" stroke=\"black\" stroke-width=\"1\"></line><text x=\"175\" y=\"59\" font-size=\"16\" fill=\"green\">-2.00</text><text x=\"175\" y=\"82\" font-size=\"16\" fill=\"red\">0.20</text><circle cx=\"130\" cy=\"65\" fill=\"white\" stroke=\"black\" stroke-width=\"1\" r=\"20\"></circle><text x=\"130\" y=\"75\" font-size=\"20\" fill=\"black\" text-anchor=\"middle\">*</text><line x1=\"90\" y1=\"30\" x2=\"110\" y2=\"65\" stroke=\"black\" stroke-width=\"1\" marker-end=\"url(#arrowhead)\"></line><line x1=\"90\" y1=\"100\" x2=\"110\" y2=\"65\" stroke=\"black\" stroke-width=\"1\" marker-end=\"url(#arrowhead)\"></line><line x1=\"150\" y1=\"65\" x2=\"170\" y2=\"65\" stroke=\"black\" stroke-width=\"1\" marker-end=\"url(#arrowhead)\"></line><line x1=\"170\" y1=\"205\" x2=\"210\" y2=\"205\" stroke=\"black\" stroke-width=\"1\"></line><text x=\"175\" y=\"199\" font-size=\"16\" fill=\"green\">6.00</text><text x=\"175\" y=\"222\" font-size=\"16\" fill=\"red\">0.20</text><circle cx=\"130\" cy=\"205\" fill=\"white\" stroke=\"black\" stroke-width=\"1\" r=\"20\"></circle><text x=\"130\" y=\"215\" font-size=\"20\" fill=\"black\" text-anchor=\"middle\">*</text><line x1=\"90\" y1=\"170\" x2=\"110\" y2=\"205\" stroke=\"black\" stroke-width=\"1\" marker-end=\"url(#arrowhead)\"></line><line x1=\"90\" y1=\"240\" x2=\"110\" y2=\"205\" stroke=\"black\" stroke-width=\"1\" marker-end=\"url(#arrowhead)\"></line><line x1=\"150\" y1=\"205\" x2=\"170\" y2=\"205\" stroke=\"black\" stroke-width=\"1\" marker-end=\"url(#arrowhead)\"></line><line x1=\"290\" y1=\"135\" x2=\"330\" y2=\"135\" stroke=\"black\" stroke-width=\"1\"></line><text x=\"295\" y=\"129\" font-size=\"16\" fill=\"green\">4.00</text><text x=\"295\" y=\"152\" font-size=\"16\" fill=\"red\">0.20</text><circle cx=\"250\" cy=\"135\" fill=\"white\" stroke=\"black\" stroke-width=\"1\" r=\"20\"></circle><text x=\"250\" y=\"140\" font-size=\"20\" fill=\"black\" text-anchor=\"middle\">+</text><line x1=\"210\" y1=\"65\" x2=\"230\" y2=\"135\" stroke=\"black\" stroke-width=\"1\" marker-end=\"url(#arrowhead)\"></line><line x1=\"210\" y1=\"205\" x2=\"230\" y2=\"135\" stroke=\"black\" stroke-width=\"1\" marker-end=\"url(#arrowhead)\"></line><line x1=\"270\" y1=\"135\" x2=\"290\" y2=\"135\" stroke=\"black\" stroke-width=\"1\" marker-end=\"url(#arrowhead)\"></line><line x1=\"410\" y1=\"222\" x2=\"450\" y2=\"222\" stroke=\"black\" stroke-width=\"1\"></line><text x=\"415\" y=\"216\" font-size=\"16\" fill=\"green\">1.00</text><text x=\"415\" y=\"239\" font-size=\"16\" fill=\"red\">0.20</text><circle cx=\"370\" cy=\"222\" fill=\"white\" stroke=\"black\" stroke-width=\"1\" r=\"20\"></circle><text x=\"370\" y=\"227\" font-size=\"20\" fill=\"black\" text-anchor=\"middle\">+</text><line x1=\"330\" y1=\"135\" x2=\"350\" y2=\"222\" stroke=\"black\" stroke-width=\"1\" marker-end=\"url(#arrowhead)\"></line><line x1=\"90\" y1=\"310\" x2=\"350\" y2=\"222\" stroke=\"black\" stroke-width=\"1\" marker-end=\"url(#arrowhead)\"></line><line x1=\"390\" y1=\"222\" x2=\"410\" y2=\"222\" stroke=\"black\" stroke-width=\"1\" marker-end=\"url(#arrowhead)\"></line><line x1=\"530\" y1=\"222\" x2=\"570\" y2=\"222\" stroke=\"black\" stroke-width=\"1\"></line><text x=\"535\" y=\"216\" font-size=\"16\" fill=\"green\">-1.00</text><text x=\"535\" y=\"239\" font-size=\"16\" fill=\"red\">-0.20</text><circle cx=\"490\" cy=\"222\" fill=\"white\" stroke=\"black\" stroke-width=\"1\" r=\"20\"></circle><text x=\"490\" y=\"227\" font-size=\"20\" fill=\"black\" text-anchor=\"middle\">*-1</text><line x1=\"450\" y1=\"222\" x2=\"470\" y2=\"222\" stroke=\"black\" stroke-width=\"1\" marker-end=\"url(#arrowhead)\"></line><line x1=\"510\" y1=\"222\" x2=\"530\" y2=\"222\" stroke=\"black\" stroke-width=\"1\" marker-end=\"url(#arrowhead)\"></line><line x1=\"650\" y1=\"222\" x2=\"690\" y2=\"222\" stroke=\"black\" stroke-width=\"1\"></line><text x=\"655\" y=\"216\" font-size=\"16\" fill=\"green\">0.37</text><text x=\"655\" y=\"239\" font-size=\"16\" fill=\"red\">-0.53</text><circle cx=\"610\" cy=\"222\" fill=\"white\" stroke=\"black\" stroke-width=\"1\" r=\"20\"></circle><text x=\"610\" y=\"227\" font-size=\"20\" fill=\"black\" text-anchor=\"middle\">exp</text><line x1=\"570\" y1=\"222\" x2=\"590\" y2=\"222\" stroke=\"black\" stroke-width=\"1\" marker-end=\"url(#arrowhead)\"></line><line x1=\"630\" y1=\"222\" x2=\"650\" y2=\"222\" stroke=\"black\" stroke-width=\"1\" marker-end=\"url(#arrowhead)\"></line><line x1=\"770\" y1=\"222\" x2=\"810\" y2=\"222\" stroke=\"black\" stroke-width=\"1\"></line><text x=\"775\" y=\"216\" font-size=\"16\" fill=\"green\">1.37</text><text x=\"775\" y=\"239\" font-size=\"16\" fill=\"red\">-0.53</text><circle cx=\"730\" cy=\"222\" fill=\"white\" stroke=\"black\" stroke-width=\"1\" r=\"20\"></circle><text x=\"730\" y=\"227\" font-size=\"20\" fill=\"black\" text-anchor=\"middle\">+1</text><line x1=\"690\" y1=\"222\" x2=\"710\" y2=\"222\" stroke=\"black\" stroke-width=\"1\" marker-end=\"url(#arrowhead)\"></line><line x1=\"750\" y1=\"222\" x2=\"770\" y2=\"222\" stroke=\"black\" stroke-width=\"1\" marker-end=\"url(#arrowhead)\"></line><line x1=\"890\" y1=\"222\" x2=\"930\" y2=\"222\" stroke=\"black\" stroke-width=\"1\"></line><text x=\"895\" y=\"216\" font-size=\"16\" fill=\"green\">0.73</text><text x=\"895\" y=\"239\" font-size=\"16\" fill=\"red\">1.00</text><circle cx=\"850\" cy=\"222\" fill=\"white\" stroke=\"black\" stroke-width=\"1\" r=\"20\"></circle><text x=\"850\" y=\"227\" font-size=\"20\" fill=\"black\" text-anchor=\"middle\">1/x</text><line x1=\"810\" y1=\"222\" x2=\"830\" y2=\"222\" stroke=\"black\" stroke-width=\"1\" marker-end=\"url(#arrowhead)\"></line><line x1=\"870\" y1=\"222\" x2=\"890\" y2=\"222\" stroke=\"black\" stroke-width=\"1\" marker-end=\"url(#arrowhead)\"></line></g></svg>')\n",
    "show_svg()"
   ]
  },
  {
   "cell_type": "code",
   "execution_count": null,
   "metadata": {
    "collapsed": true
   },
   "outputs": [],
   "source": []
  }
 ],
 "metadata": {
  "kernelspec": {
   "display_name": "Python 2",
   "language": "python",
   "name": "python2"
  },
  "language_info": {
   "codemirror_mode": {
    "name": "ipython",
    "version": 2
   },
   "file_extension": ".py",
   "mimetype": "text/x-python",
   "name": "python",
   "nbconvert_exporter": "python",
   "pygments_lexer": "ipython2",
   "version": "2.7.12"
  }
 },
 "nbformat": 4,
 "nbformat_minor": 2
}
